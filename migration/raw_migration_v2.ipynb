{
 "cells": [
  {
   "cell_type": "code",
   "execution_count": 3,
   "id": "6ef6dd2f-3e3b-4763-bc7b-b98ba5d4b3e2",
   "metadata": {
    "tags": []
   },
   "outputs": [],
   "source": [
    "import pandas as pd\n",
    "import matplotlib.pyplot as plt"
   ]
  },
  {
   "cell_type": "code",
   "execution_count": 10,
   "id": "199259b0-af55-40eb-b453-dfa2ff012b35",
   "metadata": {
    "tags": []
   },
   "outputs": [
    {
     "data": {
      "text/plain": [
       "array(['plant_village', 'plant docs', 'apple2021', 'Citrus', 'Rice5932',\n",
       "       'Rice1426', 'CGIARWheat', 'TaiwanTomato',\n",
       "       'Plant Disease Classification Merged dataset',\n",
       "       'Plant_leave_diseases_dataset_with_augmentation', 'Rocole_dataset',\n",
       "       'rice_leaf_diseases', 'Plant_Leaves_Image_Classification',\n",
       "       'healthy vs unhealthy leaf image dataset', 'wheat_leaf_dataset',\n",
       "       'Dataset for Detection and Classification of Guava Diseases',\n",
       "       'grape_dataset'], dtype=object)"
      ]
     },
     "execution_count": 10,
     "metadata": {},
     "output_type": "execute_result"
    }
   ],
   "source": [
    "df = pd.read_csv('final_dataset_meta_v1.csv')\n",
    "dataset = [ 'apple2020']\n",
    "df_PDD_exculd = df[df['data_set'] != 'PDD271']\n",
    "df_PDD_exculde = df_PDD_exculd[df_PDD_exculd['data_set'] != 'apple2020']\n",
    "df_PDD_exculde.data_set.unique()"
   ]
  },
  {
   "cell_type": "code",
   "execution_count": 170,
   "id": "14ae2f61-346e-4ac7-85d7-4489646fda69",
   "metadata": {
    "tags": []
   },
   "outputs": [],
   "source": [
    "# filtered_df = df_PDD_exculde[df_PDD_exculde['disease'].isin(conditions)]\n",
    "# filtered_df"
   ]
  },
  {
   "cell_type": "code",
   "execution_count": 171,
   "id": "60f8f09f-069d-4d34-ab8f-942b4371a89f",
   "metadata": {
    "tags": []
   },
   "outputs": [
    {
     "data": {
      "text/html": [
       "<div>\n",
       "<style scoped>\n",
       "    .dataframe tbody tr th:only-of-type {\n",
       "        vertical-align: middle;\n",
       "    }\n",
       "\n",
       "    .dataframe tbody tr th {\n",
       "        vertical-align: top;\n",
       "    }\n",
       "\n",
       "    .dataframe thead th {\n",
       "        text-align: right;\n",
       "    }\n",
       "</style>\n",
       "<table border=\"1\" class=\"dataframe\">\n",
       "  <thead>\n",
       "    <tr style=\"text-align: right;\">\n",
       "      <th></th>\n",
       "      <th>data_set</th>\n",
       "      <th>plant_name</th>\n",
       "      <th>plant_part</th>\n",
       "      <th>disease</th>\n",
       "      <th>file_name</th>\n",
       "      <th>file_location</th>\n",
       "    </tr>\n",
       "  </thead>\n",
       "  <tbody>\n",
       "    <tr>\n",
       "      <th>175742</th>\n",
       "      <td>Plant Disease Classification Merged dataset</td>\n",
       "      <td>Gauva</td>\n",
       "      <td>leaf</td>\n",
       "      <td>Gauva__diseased</td>\n",
       "      <td>0015_0001.JPG</td>\n",
       "      <td>Plant Disease Classification Merged dataset/Ga...</td>\n",
       "    </tr>\n",
       "    <tr>\n",
       "      <th>175743</th>\n",
       "      <td>Plant Disease Classification Merged dataset</td>\n",
       "      <td>Gauva</td>\n",
       "      <td>leaf</td>\n",
       "      <td>Gauva__diseased</td>\n",
       "      <td>0015_0002.JPG</td>\n",
       "      <td>Plant Disease Classification Merged dataset/Ga...</td>\n",
       "    </tr>\n",
       "    <tr>\n",
       "      <th>175744</th>\n",
       "      <td>Plant Disease Classification Merged dataset</td>\n",
       "      <td>Gauva</td>\n",
       "      <td>leaf</td>\n",
       "      <td>Gauva__diseased</td>\n",
       "      <td>0015_0003.JPG</td>\n",
       "      <td>Plant Disease Classification Merged dataset/Ga...</td>\n",
       "    </tr>\n",
       "    <tr>\n",
       "      <th>175745</th>\n",
       "      <td>Plant Disease Classification Merged dataset</td>\n",
       "      <td>Gauva</td>\n",
       "      <td>leaf</td>\n",
       "      <td>Gauva__diseased</td>\n",
       "      <td>0015_0004.JPG</td>\n",
       "      <td>Plant Disease Classification Merged dataset/Ga...</td>\n",
       "    </tr>\n",
       "    <tr>\n",
       "      <th>175746</th>\n",
       "      <td>Plant Disease Classification Merged dataset</td>\n",
       "      <td>Gauva</td>\n",
       "      <td>leaf</td>\n",
       "      <td>Gauva__diseased</td>\n",
       "      <td>0015_0005.JPG</td>\n",
       "      <td>Plant Disease Classification Merged dataset/Ga...</td>\n",
       "    </tr>\n",
       "    <tr>\n",
       "      <th>...</th>\n",
       "      <td>...</td>\n",
       "      <td>...</td>\n",
       "      <td>...</td>\n",
       "      <td>...</td>\n",
       "      <td>...</td>\n",
       "      <td>...</td>\n",
       "    </tr>\n",
       "    <tr>\n",
       "      <th>175879</th>\n",
       "      <td>Plant Disease Classification Merged dataset</td>\n",
       "      <td>Gauva</td>\n",
       "      <td>leaf</td>\n",
       "      <td>Gauva__diseased</td>\n",
       "      <td>0015_0138.JPG</td>\n",
       "      <td>Plant Disease Classification Merged dataset/Ga...</td>\n",
       "    </tr>\n",
       "    <tr>\n",
       "      <th>175880</th>\n",
       "      <td>Plant Disease Classification Merged dataset</td>\n",
       "      <td>Gauva</td>\n",
       "      <td>leaf</td>\n",
       "      <td>Gauva__diseased</td>\n",
       "      <td>0015_0139.JPG</td>\n",
       "      <td>Plant Disease Classification Merged dataset/Ga...</td>\n",
       "    </tr>\n",
       "    <tr>\n",
       "      <th>175881</th>\n",
       "      <td>Plant Disease Classification Merged dataset</td>\n",
       "      <td>Gauva</td>\n",
       "      <td>leaf</td>\n",
       "      <td>Gauva__diseased</td>\n",
       "      <td>0015_0140.JPG</td>\n",
       "      <td>Plant Disease Classification Merged dataset/Ga...</td>\n",
       "    </tr>\n",
       "    <tr>\n",
       "      <th>175882</th>\n",
       "      <td>Plant Disease Classification Merged dataset</td>\n",
       "      <td>Gauva</td>\n",
       "      <td>leaf</td>\n",
       "      <td>Gauva__diseased</td>\n",
       "      <td>0015_0141.JPG</td>\n",
       "      <td>Plant Disease Classification Merged dataset/Ga...</td>\n",
       "    </tr>\n",
       "    <tr>\n",
       "      <th>175883</th>\n",
       "      <td>Plant Disease Classification Merged dataset</td>\n",
       "      <td>Gauva</td>\n",
       "      <td>leaf</td>\n",
       "      <td>Gauva__diseased</td>\n",
       "      <td>0015_0142.JPG</td>\n",
       "      <td>Plant Disease Classification Merged dataset/Ga...</td>\n",
       "    </tr>\n",
       "  </tbody>\n",
       "</table>\n",
       "<p>142 rows × 6 columns</p>\n",
       "</div>"
      ],
      "text/plain": [
       "                                           data_set plant_name plant_part  \\\n",
       "175742  Plant Disease Classification Merged dataset      Gauva       leaf   \n",
       "175743  Plant Disease Classification Merged dataset      Gauva       leaf   \n",
       "175744  Plant Disease Classification Merged dataset      Gauva       leaf   \n",
       "175745  Plant Disease Classification Merged dataset      Gauva       leaf   \n",
       "175746  Plant Disease Classification Merged dataset      Gauva       leaf   \n",
       "...                                             ...        ...        ...   \n",
       "175879  Plant Disease Classification Merged dataset      Gauva       leaf   \n",
       "175880  Plant Disease Classification Merged dataset      Gauva       leaf   \n",
       "175881  Plant Disease Classification Merged dataset      Gauva       leaf   \n",
       "175882  Plant Disease Classification Merged dataset      Gauva       leaf   \n",
       "175883  Plant Disease Classification Merged dataset      Gauva       leaf   \n",
       "\n",
       "                disease      file_name  \\\n",
       "175742  Gauva__diseased  0015_0001.JPG   \n",
       "175743  Gauva__diseased  0015_0002.JPG   \n",
       "175744  Gauva__diseased  0015_0003.JPG   \n",
       "175745  Gauva__diseased  0015_0004.JPG   \n",
       "175746  Gauva__diseased  0015_0005.JPG   \n",
       "...                 ...            ...   \n",
       "175879  Gauva__diseased  0015_0138.JPG   \n",
       "175880  Gauva__diseased  0015_0139.JPG   \n",
       "175881  Gauva__diseased  0015_0140.JPG   \n",
       "175882  Gauva__diseased  0015_0141.JPG   \n",
       "175883  Gauva__diseased  0015_0142.JPG   \n",
       "\n",
       "                                            file_location  \n",
       "175742  Plant Disease Classification Merged dataset/Ga...  \n",
       "175743  Plant Disease Classification Merged dataset/Ga...  \n",
       "175744  Plant Disease Classification Merged dataset/Ga...  \n",
       "175745  Plant Disease Classification Merged dataset/Ga...  \n",
       "175746  Plant Disease Classification Merged dataset/Ga...  \n",
       "...                                                   ...  \n",
       "175879  Plant Disease Classification Merged dataset/Ga...  \n",
       "175880  Plant Disease Classification Merged dataset/Ga...  \n",
       "175881  Plant Disease Classification Merged dataset/Ga...  \n",
       "175882  Plant Disease Classification Merged dataset/Ga...  \n",
       "175883  Plant Disease Classification Merged dataset/Ga...  \n",
       "\n",
       "[142 rows x 6 columns]"
      ]
     },
     "execution_count": 171,
     "metadata": {},
     "output_type": "execute_result"
    }
   ],
   "source": [
    "df_PDD_exculde[df_PDD_exculde['disease'] == 'Gauva__diseased']"
   ]
  },
  {
   "cell_type": "code",
   "execution_count": 11,
   "id": "0e739c4f-7977-4f43-bc86-e3bcc9f4be17",
   "metadata": {
    "tags": []
   },
   "outputs": [
    {
     "data": {
      "text/plain": [
       "array(['Apple', 'Blueberry', 'Cherry_(including_sour)', 'Corn_(maize)',\n",
       "       'Grape', 'Orange', 'Peach', 'Pepper,_bell', 'Potato', 'Raspberry',\n",
       "       'Soybean', 'Squash', 'Strawberry', 'Tomato', 'Corn', 'Bell_pepper',\n",
       "       'grape', 'Soyabean', 'Cherry', nan, '416', 'Citrus', 'Rice',\n",
       "       'wheat', 'Cassava', 'Chili', 'Coffee', 'Cucumber', 'Gauva',\n",
       "       'Jamun', 'Lemon', 'Mango', 'Pepper_bell', 'Pomegranate',\n",
       "       'Sugarcane', 'Tea', 'Wheat', 'Background_without_leaves',\n",
       "       'Alstonia', 'Arjun', 'Bael', 'Basil', 'Chinar', 'Jatropha',\n",
       "       'Pongamia', 'Alstonia Scholaris (P2)', 'Arjun (P1)',\n",
       "       'Chinar (P11)', 'Gauva (P3)', 'Jamun (P5)', 'Jatropha (P6)',\n",
       "       'Lemon (P10)', 'Mango (P0)', 'Pomegranate (P9)',\n",
       "       'Pongamia Pinnata (P7)', 'Guava'], dtype=object)"
      ]
     },
     "execution_count": 11,
     "metadata": {},
     "output_type": "execute_result"
    }
   ],
   "source": [
    "df_PDD_exculde['plant_name'].unique()"
   ]
  },
  {
   "cell_type": "markdown",
   "id": "8b8b2b0a-70c2-4d99-aa0c-3301ce15f377",
   "metadata": {},
   "source": [
    "# Guava"
   ]
  },
  {
   "cell_type": "code",
   "execution_count": 12,
   "id": "b8ec6aeb-f4b3-48c8-a9ff-da07bcde8ade",
   "metadata": {
    "tags": []
   },
   "outputs": [
    {
     "data": {
      "text/plain": [
       "array(['Canker', 'Dot', 'Mummification', 'Rust'], dtype=object)"
      ]
     },
     "execution_count": 12,
     "metadata": {},
     "output_type": "execute_result"
    }
   ],
   "source": [
    "guava_details = df_PDD_exculde[df_PDD_exculde['plant_name'] == 'Guava']\n",
    "guava_details['disease'].unique()"
   ]
  },
  {
   "cell_type": "code",
   "execution_count": 13,
   "id": "4783de7d-3e6c-4930-a38d-44bb4d91c4f7",
   "metadata": {
    "tags": []
   },
   "outputs": [
    {
     "data": {
      "text/plain": [
       "array(['guava_canker', 'guava_Dot', 'guava_Mummification', 'guava_Rust'],\n",
       "      dtype=object)"
      ]
     },
     "execution_count": 13,
     "metadata": {},
     "output_type": "execute_result"
    }
   ],
   "source": [
    "clist = []\n",
    "# df_PDD_exculd = df_PDD_exculde.copy()\n",
    "for i in guava_details['disease'].unique():\n",
    "    \n",
    "    \n",
    "    # Check each class\n",
    "    \n",
    "    if i == 'Canker':\n",
    "        modified_disease = 'guava_canker'\n",
    "        modified_symptom = 'Canker'\n",
    "    elif i == 'Dot':\n",
    "        modified_disease = 'guava_Dot'\n",
    "        modified_symptom = 'Dot'\n",
    "    elif i == 'Mummification':\n",
    "        modified_disease = 'guava_Mummification'\n",
    "        modified_symptom = 'Mummification'\n",
    "    elif i == 'Rust':\n",
    "        modified_disease = 'guava_Rust'\n",
    "        modified_symptom = 'Rust'\n",
    "   \n",
    "    \n",
    "    # Filter the original DataFrame\n",
    "    filtered_df = guava_details[guava_details['disease'] == i].copy()\n",
    "    filtered_df['disease'] = modified_disease\n",
    "    filtered_df['symptom'] = modified_symptom\n",
    "    \n",
    "    # Append the modified DataFrame to the list\n",
    "    clist.append(filtered_df)\n",
    "\n",
    "# Concatenate all modified DataFrames in the list\n",
    "guava_result = pd.concat(clist, ignore_index=True)\n",
    "guava_result['disease'].unique()"
   ]
  },
  {
   "cell_type": "markdown",
   "id": "ae5d99d9-9913-45de-9d0f-cc7df350af0b",
   "metadata": {},
   "source": [
    "# Wheat"
   ]
  },
  {
   "cell_type": "code",
   "execution_count": 14,
   "id": "5605419d-d6d5-456d-84d3-aad522c746f9",
   "metadata": {
    "tags": []
   },
   "outputs": [
    {
     "data": {
      "text/plain": [
       "array(['Wheat__brown_rust', 'Wheat__healthy', 'Wheat__septoria',\n",
       "       'Wheat__yellow_rust', 'Healthy', 'septoria', 'stripe_rust'],\n",
       "      dtype=object)"
      ]
     },
     "execution_count": 14,
     "metadata": {},
     "output_type": "execute_result"
    }
   ],
   "source": [
    "wheat_details = df_PDD_exculde[df_PDD_exculde['plant_name'] == 'Wheat']\n",
    "wheat_details['disease'].unique()"
   ]
  },
  {
   "cell_type": "code",
   "execution_count": 15,
   "id": "52d37301-66bc-4f22-9078-f198f79c7aaa",
   "metadata": {
    "tags": []
   },
   "outputs": [
    {
     "data": {
      "text/plain": [
       "array(['wheat_brown_rust', 'No disease', 'wheat_septoria',\n",
       "       'wheat_yellow_rust', 'wheat_stripe_rust'], dtype=object)"
      ]
     },
     "execution_count": 15,
     "metadata": {},
     "output_type": "execute_result"
    }
   ],
   "source": [
    "clist = []\n",
    "# df_PDD_exculd = df_PDD_exculde.copy()\n",
    "for i in wheat_details['disease'].unique():\n",
    "    \n",
    "    \n",
    "    # Check each class\n",
    "    \n",
    "    if i == 'Wheat__brown_rust':\n",
    "        modified_disease = 'wheat_brown_rust'\n",
    "        modified_symptom = 'brown_rust'\n",
    "    elif i == 'Wheat__septoria' or i == 'septoria':\n",
    "        modified_disease = 'wheat_septoria'\n",
    "        modified_symptom = 'septoria'\n",
    "    elif i == 'Wheat__yellow_rust':\n",
    "        modified_disease = 'wheat_yellow_rust'\n",
    "        modified_symptom = 'yellow_rust'\n",
    "    elif i == 'stripe_rust':\n",
    "        modified_disease = 'wheat_stripe_rust'\n",
    "        modified_symptom = 'stripe_rust'\n",
    "    else:\n",
    "        modified_disease = 'No disease'\n",
    "        modified_symptom = 'No symptoms'\n",
    "   \n",
    "    \n",
    "    # Filter the original DataFrame\n",
    "    filtered_df = wheat_details[wheat_details['disease'] == i].copy()\n",
    "    filtered_df['disease'] = modified_disease\n",
    "    filtered_df['symptom'] = modified_symptom\n",
    "    \n",
    "    # Append the modified DataFrame to the list\n",
    "    clist.append(filtered_df)\n",
    "\n",
    "# Concatenate all modified DataFrames in the list\n",
    "Wheat_result = pd.concat(clist, ignore_index=True)\n",
    "Wheat_result['disease'].unique()"
   ]
  },
  {
   "cell_type": "markdown",
   "id": "929cade7-a6ff-4b6e-95eb-f0bab4d93ff5",
   "metadata": {
    "tags": []
   },
   "source": [
    "# Tea"
   ]
  },
  {
   "cell_type": "code",
   "execution_count": 16,
   "id": "a348b9c8-2613-462d-be0b-ac2f52c70b36",
   "metadata": {
    "tags": []
   },
   "outputs": [
    {
     "data": {
      "text/plain": [
       "array(['Tea__algal_leaf', 'Tea__anthracnose', 'Tea__bird_eye_spot',\n",
       "       'Tea__brown_blight', 'Tea__healthy', 'Tea__red_leaf_spot'],\n",
       "      dtype=object)"
      ]
     },
     "execution_count": 16,
     "metadata": {},
     "output_type": "execute_result"
    }
   ],
   "source": [
    "tea_details = df_PDD_exculde[df_PDD_exculde['plant_name'] == 'Tea']\n",
    "tea_details['disease'].unique()"
   ]
  },
  {
   "cell_type": "code",
   "execution_count": 17,
   "id": "08afebc1-8d5c-4185-81a0-e868cf93cca1",
   "metadata": {
    "tags": []
   },
   "outputs": [
    {
     "data": {
      "text/plain": [
       "array(['Tea__algal_leaf', 'Tea__anthracnose', 'Tea__bird_eye_spot',\n",
       "       'Tea__brown_blight', 'No disease', 'Tea__red_leaf_spot'],\n",
       "      dtype=object)"
      ]
     },
     "execution_count": 17,
     "metadata": {},
     "output_type": "execute_result"
    }
   ],
   "source": [
    "scab_list = []\n",
    "# df_PDD_exculd = df_PDD_exculde.copy()\n",
    "for i in tea_details['disease'].unique():\n",
    "    # Check each class\n",
    "    \n",
    "    if i == 'Tea__algal_leaf':\n",
    "        modified_disease = 'Tea__algal_leaf'\n",
    "        modified_symptom = 'algal_leaf'\n",
    "    elif i == 'Tea__anthracnose':\n",
    "        modified_disease = 'Tea__anthracnose'\n",
    "        modified_symptom = 'anthracnose'\n",
    "    elif i == 'Tea__bird_eye_spot':\n",
    "        modified_disease = 'Tea__bird_eye_spot'\n",
    "        modified_symptom = 'bird_eye_spot'\n",
    "    elif i == 'Tea__brown_blight' :\n",
    "        modified_disease = 'Tea__brown_blight'\n",
    "        modified_symptom = 'brown_blight'\n",
    "    elif i == 'Tea__red_leaf_spot':\n",
    "        modified_disease = 'Tea__red_leaf_spot'\n",
    "        modified_symptom = 'red_leaf_spot'\n",
    "    else:\n",
    "        modified_disease = 'No disease'\n",
    "        modified_symptom = 'No symptoms'\n",
    "        \n",
    "    \n",
    "    # Filter the original DataFrame\n",
    "    filtered_df = tea_details[tea_details['disease'] == i].copy()\n",
    "    filtered_df['disease'] = modified_disease\n",
    "    filtered_df['symptom'] = modified_symptom\n",
    "    \n",
    "    # Append the modified DataFrame to the list\n",
    "    scab_list.append(filtered_df)\n",
    "\n",
    "# Concatenate all modified DataFrames in the list\n",
    "tea_result = pd.concat(scab_list, ignore_index=True)\n",
    "tea_result['disease'].unique()"
   ]
  },
  {
   "cell_type": "markdown",
   "id": "589e0315-8e7a-4631-bbc9-6b33ec9bd7ee",
   "metadata": {
    "tags": []
   },
   "source": [
    "# SugerCane"
   ]
  },
  {
   "cell_type": "code",
   "execution_count": 18,
   "id": "7d55aa8c-e170-4e23-86d3-c38abdc4bd9b",
   "metadata": {
    "tags": []
   },
   "outputs": [
    {
     "data": {
      "text/plain": [
       "array(['Sugarcane__bacterial_blight', 'Sugarcane__healthy',\n",
       "       'Sugarcane__red_rot', 'Sugarcane__red_stripe', 'Sugarcane__rust'],\n",
       "      dtype=object)"
      ]
     },
     "execution_count": 18,
     "metadata": {},
     "output_type": "execute_result"
    }
   ],
   "source": [
    "sugarcane_details = df_PDD_exculde[df_PDD_exculde['plant_name'] == 'Sugarcane']\n",
    "sugarcane_details['disease'].unique()"
   ]
  },
  {
   "cell_type": "code",
   "execution_count": 19,
   "id": "88318edf-470a-46fa-81a5-f9589cd69ff4",
   "metadata": {
    "tags": []
   },
   "outputs": [
    {
     "data": {
      "text/plain": [
       "array(['Sugarcane__bacterial_blight', 'No disease', 'Sugarcane__red_rot',\n",
       "       'Sugarcane__red_stripe', 'Sugarcane__rust'], dtype=object)"
      ]
     },
     "execution_count": 19,
     "metadata": {},
     "output_type": "execute_result"
    }
   ],
   "source": [
    "scab_list = []\n",
    "# df_PDD_exculd = df_PDD_exculde.copy()\n",
    "for i in sugarcane_details['disease'].unique():\n",
    "    # Check each class\n",
    "    \n",
    "    if i == 'Sugarcane__bacterial_blight':\n",
    "        modified_disease = 'Sugarcane__bacterial_blight'\n",
    "        modified_symptom = 'bacterial_blight'\n",
    "    elif i == 'Sugarcane__red_rot':\n",
    "        modified_disease = 'Sugarcane__red_rot'\n",
    "        modified_symptom = 'red_rot'\n",
    "    elif i == 'Sugarcane__red_stripe':\n",
    "        modified_disease = 'Sugarcane__red_stripe'\n",
    "        modified_symptom = 'red_stripe'\n",
    "    elif i == 'Sugarcane__rust' :\n",
    "        modified_disease = 'Sugarcane__rust'\n",
    "        modified_symptom = 'rust'\n",
    "    else:\n",
    "        modified_disease = 'No disease'\n",
    "        modified_symptom = 'No symptoms'\n",
    "        \n",
    "    \n",
    "    # Filter the original DataFrame\n",
    "    filtered_df = sugarcane_details[sugarcane_details['disease'] == i].copy()\n",
    "    filtered_df['disease'] = modified_disease\n",
    "    filtered_df['symptom'] = modified_symptom\n",
    "    \n",
    "    # Append the modified DataFrame to the list\n",
    "    scab_list.append(filtered_df)\n",
    "\n",
    "# Concatenate all modified DataFrames in the list\n",
    "sugarcane_result = pd.concat(scab_list, ignore_index=True)\n",
    "sugarcane_result['disease'].unique()"
   ]
  },
  {
   "cell_type": "markdown",
   "id": "7b699048-22f4-45c5-8244-9ff6e126af88",
   "metadata": {},
   "source": [
    "# pepper_bell"
   ]
  },
  {
   "cell_type": "code",
   "execution_count": 23,
   "id": "6d4d14be-14d4-4ded-97da-efdab35ad145",
   "metadata": {
    "tags": []
   },
   "outputs": [
    {
     "data": {
      "text/plain": [
       "array(['Pepper_bell__bacterial_spot', 'Pepper_bell__healthy'],\n",
       "      dtype=object)"
      ]
     },
     "execution_count": 23,
     "metadata": {},
     "output_type": "execute_result"
    }
   ],
   "source": [
    "pepper_bell_details = df_PDD_exculde[df_PDD_exculde['plant_name'] == 'Pepper_bell']\n",
    "pepper_bell_details['disease'].unique()"
   ]
  },
  {
   "cell_type": "code",
   "execution_count": 24,
   "id": "e7e59b7f-3fbe-4bfb-9be8-b206702c7103",
   "metadata": {
    "tags": []
   },
   "outputs": [
    {
     "data": {
      "text/plain": [
       "array(['pepper_bacterial_spot', 'No disease'], dtype=object)"
      ]
     },
     "execution_count": 24,
     "metadata": {},
     "output_type": "execute_result"
    }
   ],
   "source": [
    "clist = []\n",
    "# df_PDD_exculd = df_PDD_exculde.copy()\n",
    "for i in pepper_bell_details['disease'].unique():\n",
    "    \n",
    "    \n",
    "    # Check each class\n",
    "    \n",
    "    if i == 'Pepper_bell__bacterial_spot' :\n",
    "        modified_disease = 'pepper_bacterial_spot'\n",
    "        modified_symptom = 'bacterial_spot'\n",
    "    else:\n",
    "        modified_disease = 'No disease'\n",
    "        modified_symptom = 'No symptoms'\n",
    "   \n",
    "    \n",
    "    # Filter the original DataFrame\n",
    "    filtered_df = pepper_bell_details[pepper_bell_details['disease'] == i].copy()\n",
    "    filtered_df['disease'] = modified_disease\n",
    "    filtered_df['symptom'] = modified_symptom\n",
    "    \n",
    "    # Append the modified DataFrame to the list\n",
    "    clist.append(filtered_df)\n",
    "\n",
    "# Concatenate all modified DataFrames in the list\n",
    "pepper_bell_result = pd.concat(clist, ignore_index=True)\n",
    "pepper_bell_result['disease'].unique()"
   ]
  },
  {
   "cell_type": "markdown",
   "id": "362c3dee-5934-4a45-bbeb-095dded63266",
   "metadata": {
    "tags": []
   },
   "source": [
    "# Coffee"
   ]
  },
  {
   "cell_type": "code",
   "execution_count": 25,
   "id": "c9c1d69c-d169-4e1c-a14d-343f6a2890d0",
   "metadata": {
    "tags": []
   },
   "outputs": [
    {
     "data": {
      "text/plain": [
       "array(['Coffee__cercospora_leaf_spot', 'Coffee__healthy',\n",
       "       'Coffee__red_spider_mite', 'Coffee__rust', 'healthy',\n",
       "       'rust_level_2', 'rust_level_3', 'rust_level_1', 'red_spider_mite',\n",
       "       'rust_level_4'], dtype=object)"
      ]
     },
     "execution_count": 25,
     "metadata": {},
     "output_type": "execute_result"
    }
   ],
   "source": [
    "coffee_details = df_PDD_exculde[df_PDD_exculde['plant_name'] == 'Coffee']\n",
    "coffee_details['disease'].unique()"
   ]
  },
  {
   "cell_type": "code",
   "execution_count": 26,
   "id": "05b5d085-e4af-4085-9249-4978763946b9",
   "metadata": {
    "tags": []
   },
   "outputs": [
    {
     "data": {
      "text/plain": [
       "array(['Coffee_cercospora_leaf_spot', 'No disease',\n",
       "       'Coffee__red_spider_mite', 'Coffee__rust'], dtype=object)"
      ]
     },
     "execution_count": 26,
     "metadata": {},
     "output_type": "execute_result"
    }
   ],
   "source": [
    "scab_list = []\n",
    "# df_PDD_exculd = df_PDD_exculde.copy()\n",
    "for i in coffee_details['disease'].unique():\n",
    "    # Check each class\n",
    "    \n",
    "    if i == 'Coffee__cercospora_leaf_spot':\n",
    "        modified_disease = 'Coffee_cercospora_leaf_spot'\n",
    "        modified_symptom = 'leaf_spot'\n",
    "    elif i == 'Coffee__red_spider_mite' or i == 'red_spider_mite':\n",
    "        modified_disease = 'Coffee__red_spider_mite'\n",
    "        modified_symptom = 'red_spider_mite'\n",
    "    elif i == 'Coffee__rust':\n",
    "        modified_disease = 'Coffee__rust'\n",
    "        modified_symptom = 'rust'\n",
    "    elif i == 'Coffee__healthy' or i == 'healthy':\n",
    "        modified_disease = 'No disease'\n",
    "        modified_symptom = 'No symptoms'\n",
    "    \n",
    "    # Filter the original DataFrame\n",
    "    filtered_df = coffee_details[coffee_details['disease'] == i].copy()\n",
    "    filtered_df['disease'] = modified_disease\n",
    "    filtered_df['symptom'] = modified_symptom\n",
    "    \n",
    "    # Append the modified DataFrame to the list\n",
    "    scab_list.append(filtered_df)\n",
    "\n",
    "# Concatenate all modified DataFrames in the list\n",
    "coffee_result = pd.concat(scab_list, ignore_index=True)\n",
    "coffee_result['disease'].unique()"
   ]
  },
  {
   "cell_type": "markdown",
   "id": "45244786-ee76-47c9-8c3b-21b759e9af94",
   "metadata": {
    "tags": []
   },
   "source": [
    "# Chili"
   ]
  },
  {
   "cell_type": "code",
   "execution_count": 27,
   "id": "ff213fd9-b23e-42bc-bb46-0b831b4599db",
   "metadata": {
    "tags": []
   },
   "outputs": [
    {
     "data": {
      "text/plain": [
       "array(['Chili__healthy', 'Chili__leaf curl', 'Chili__leaf spot',\n",
       "       'Chili__whitefly', 'Chili__yellowish'], dtype=object)"
      ]
     },
     "execution_count": 27,
     "metadata": {},
     "output_type": "execute_result"
    }
   ],
   "source": [
    "Chili_details = df_PDD_exculde[df_PDD_exculde['plant_name'] == 'Chili']\n",
    "Chili_details['disease'].unique()"
   ]
  },
  {
   "cell_type": "code",
   "execution_count": 28,
   "id": "9226f93e-e261-4324-90d4-d7683964848f",
   "metadata": {
    "tags": []
   },
   "outputs": [
    {
     "data": {
      "text/plain": [
       "array(['No disease', 'Chili_leaf curl', 'Chili_leaf spot',\n",
       "       'Chili__whitefly', 'Chili__yellowish'], dtype=object)"
      ]
     },
     "execution_count": 28,
     "metadata": {},
     "output_type": "execute_result"
    }
   ],
   "source": [
    "scab_list = []\n",
    "# df_PDD_exculd = df_PDD_exculde.copy()\n",
    "for i in Chili_details['disease'].unique():\n",
    "    # Check each class\n",
    "    \n",
    "    if i == 'Chili__leaf curl':\n",
    "        modified_disease = 'Chili_leaf curl'\n",
    "        modified_symptom = 'leaf curl'\n",
    "    elif i == 'Chili__leaf spot':\n",
    "        modified_disease = 'Chili_leaf spot'\n",
    "        modified_symptom = 'leaf_spot'\n",
    "    elif i == 'Chili__whitefly':\n",
    "        modified_disease = 'Chili__whitefly'\n",
    "        modified_symptom = 'whitefly'\n",
    "    elif i == 'Chili__yellowish':\n",
    "        modified_disease = 'Chili__yellowish'\n",
    "        modified_symptom = 'yellowish'\n",
    "    else:\n",
    "        modified_disease = 'No disease'\n",
    "        modified_symptom = 'No symptoms'\n",
    "    \n",
    "    # Filter the original DataFrame\n",
    "    filtered_df = Chili_details[Chili_details['disease'] == i].copy()\n",
    "    filtered_df['disease'] = modified_disease\n",
    "    filtered_df['symptom'] = modified_symptom\n",
    "    \n",
    "    # Append the modified DataFrame to the list\n",
    "    scab_list.append(filtered_df)\n",
    "\n",
    "# Concatenate all modified DataFrames in the list\n",
    "chilli_result = pd.concat(scab_list, ignore_index=True)\n",
    "chilli_result['disease'].unique()"
   ]
  },
  {
   "cell_type": "markdown",
   "id": "b4ad7161-06d3-4487-9bd3-83b5ca3a5ff5",
   "metadata": {},
   "source": [
    "# Cassava"
   ]
  },
  {
   "cell_type": "code",
   "execution_count": 29,
   "id": "feee07c6-5eda-469d-98fa-475f8273b1bb",
   "metadata": {
    "tags": []
   },
   "outputs": [
    {
     "data": {
      "text/plain": [
       "array(['Cassava__bacterial_blight', 'Cassava__brown_streak_disease',\n",
       "       'Cassava__green_mottle', 'Cassava__healthy',\n",
       "       'Cassava__mosaic_disease'], dtype=object)"
      ]
     },
     "execution_count": 29,
     "metadata": {},
     "output_type": "execute_result"
    }
   ],
   "source": [
    "Cassava_details = df_PDD_exculde[df_PDD_exculde['plant_name'] == 'Cassava']\n",
    "Cassava_details['disease'].unique()"
   ]
  },
  {
   "cell_type": "code",
   "execution_count": 30,
   "id": "40213d4b-3c7c-413a-b8cd-8dc3c068d880",
   "metadata": {
    "tags": []
   },
   "outputs": [
    {
     "data": {
      "text/plain": [
       "array(['Cassava_bacterial_blight', 'Cassava_brown_streak_disease',\n",
       "       'Cassava_green_mottle', 'No disease', 'Cassava_mosaic_disease'],\n",
       "      dtype=object)"
      ]
     },
     "execution_count": 30,
     "metadata": {},
     "output_type": "execute_result"
    }
   ],
   "source": [
    "scab_list = []\n",
    "# df_PDD_exculd = df_PDD_exculde.copy()\n",
    "for i in Cassava_details['disease'].unique():\n",
    "    # Check each class\n",
    "    \n",
    "    if i == 'Cassava__bacterial_blight':\n",
    "        modified_disease = 'Cassava_bacterial_blight'\n",
    "        modified_symptom = 'bacterial_blight'\n",
    "    elif i == 'Cassava__brown_streak_disease':\n",
    "        modified_disease = 'Cassava_brown_streak_disease'\n",
    "        modified_symptom = 'brown_streak'\n",
    "    elif i == 'Cassava__green_mottle':\n",
    "        modified_disease = 'Cassava_green_mottle'\n",
    "        modified_symptom = 'green_mottle'\n",
    "    elif i == 'Cassava__mosaic_disease':\n",
    "        modified_disease = 'Cassava_mosaic_disease'\n",
    "        modified_symptom = 'mosaic'\n",
    "    else:\n",
    "        modified_disease = 'No disease'\n",
    "        modified_symptom = 'No symptoms'\n",
    "    \n",
    "    # Filter the original DataFrame\n",
    "    filtered_df = Cassava_details[Cassava_details['disease'] == i].copy()\n",
    "    filtered_df['disease'] = modified_disease\n",
    "    filtered_df['symptom'] = modified_symptom\n",
    "    \n",
    "    # Append the modified DataFrame to the list\n",
    "    scab_list.append(filtered_df)\n",
    "\n",
    "# Concatenate all modified DataFrames in the list\n",
    "cassava_result = pd.concat(scab_list, ignore_index=True)\n",
    "cassava_result['disease'].unique()"
   ]
  },
  {
   "cell_type": "markdown",
   "id": "ffcd350e-a9ea-4bf8-8834-deb5e5b370ac",
   "metadata": {},
   "source": [
    "# wheat"
   ]
  },
  {
   "cell_type": "code",
   "execution_count": 31,
   "id": "b87f36ff-dd39-42b2-a6ec-f4e7334bbbb4",
   "metadata": {
    "tags": []
   },
   "outputs": [
    {
     "data": {
      "text/plain": [
       "array(['healthy_wheat', 'leaf_rust', 'stem_rust'], dtype=object)"
      ]
     },
     "execution_count": 31,
     "metadata": {},
     "output_type": "execute_result"
    }
   ],
   "source": [
    "wheat_details = df_PDD_exculde[df_PDD_exculde['plant_name'] == 'wheat']\n",
    "wheat_details['disease'].unique()"
   ]
  },
  {
   "cell_type": "code",
   "execution_count": 32,
   "id": "525ea8ba-5c0f-4a34-9af3-938436b5bcd8",
   "metadata": {
    "tags": []
   },
   "outputs": [
    {
     "data": {
      "text/plain": [
       "array(['No disease', 'wheat_leaf_rust', 'wheat_stem_rust'], dtype=object)"
      ]
     },
     "execution_count": 32,
     "metadata": {},
     "output_type": "execute_result"
    }
   ],
   "source": [
    "clist = []\n",
    "# df_PDD_exculd = df_PDD_exculde.copy()\n",
    "for i in wheat_details['disease'].unique():\n",
    "    \n",
    "    \n",
    "    # Check each class\n",
    "    \n",
    "    if i == 'stem_rust':\n",
    "        modified_disease = 'wheat_stem_rust'\n",
    "        modified_symptom = 'stem_rust'\n",
    "    elif i == 'leaf_rust':\n",
    "        modified_disease = 'wheat_leaf_rust'\n",
    "        modified_symptom = 'leaf_rust'\n",
    "    else:\n",
    "        modified_disease = 'No disease'\n",
    "        modified_symptom = 'No symptoms'\n",
    "   \n",
    "    \n",
    "    # Filter the original DataFrame\n",
    "    filtered_df = wheat_details[wheat_details['disease'] == i].copy()\n",
    "    filtered_df['disease'] = modified_disease\n",
    "    filtered_df['symptom'] = modified_symptom\n",
    "    \n",
    "    # Append the modified DataFrame to the list\n",
    "    clist.append(filtered_df)\n",
    "\n",
    "# Concatenate all modified DataFrames in the list\n",
    "wheat_result = pd.concat(clist, ignore_index=True)\n",
    "wheat_result['disease'].unique()"
   ]
  },
  {
   "cell_type": "markdown",
   "id": "30c709e3-6560-4723-80a3-4236a93475a5",
   "metadata": {},
   "source": [
    "# Rice"
   ]
  },
  {
   "cell_type": "code",
   "execution_count": 33,
   "id": "a00d8b31-f56a-457f-9781-137727c44402",
   "metadata": {
    "tags": []
   },
   "outputs": [
    {
     "data": {
      "text/plain": [
       "array(['Bacterialblight', 'Blast', 'Brownspot', 'Tungro', 'BLB', 'BPH',\n",
       "       'Brown_Spot', 'False_Smut', 'Healthy_Plant', 'Hispa', 'Neck_Blast',\n",
       "       'Sheath_Blight_Rot', 'Stemborer', 'Rice__brown_spot',\n",
       "       'Rice__healthy', 'Rice__hispa', 'Rice__leaf_blast',\n",
       "       'Rice__neck_blast', 'Bacterial leaf blight', 'Brown spot',\n",
       "       'Leaf smut'], dtype=object)"
      ]
     },
     "execution_count": 33,
     "metadata": {},
     "output_type": "execute_result"
    }
   ],
   "source": [
    "rice_details = df_PDD_exculde[df_PDD_exculde['plant_name'] == 'Rice']\n",
    "rice_details['disease'].unique()"
   ]
  },
  {
   "cell_type": "code",
   "execution_count": 34,
   "id": "f1783867-905f-4147-8246-fcab4924e1d4",
   "metadata": {
    "tags": []
   },
   "outputs": [
    {
     "data": {
      "text/plain": [
       "array(['Rice_Bacterialblight', 'Rice_Blast', 'Rice_Brownspot',\n",
       "       'Rice_Tungro', 'No disease', 'Rice_False_Smut', 'rice hispa',\n",
       "       'Rice_Sheath_Blight_Rot', 'Rice stemborer', 'rice leaf smut'],\n",
       "      dtype=object)"
      ]
     },
     "execution_count": 34,
     "metadata": {},
     "output_type": "execute_result"
    }
   ],
   "source": [
    "scab_list = []\n",
    "# df_PDD_exculd = df_PDD_exculde.copy()\n",
    "for i in rice_details['disease'].unique():\n",
    "    # Check each class\n",
    "    \n",
    "    if i == 'Bacterialblight' or  i == 'Bacterial leaf blight':\n",
    "        modified_disease = 'Rice_Bacterialblight'\n",
    "        modified_symptom = 'bacterial_blight'\n",
    "    elif i == 'Blast' or i == 'Rice__neck_blast' or i == 'Rice__leaf_blast' or i ==  'Neck_Blast':\n",
    "        modified_disease = 'Rice_Blast'\n",
    "        modified_symptom = 'Blast'\n",
    "    elif i == 'Brownspot' or i == 'Brown_Spot' or i == 'Rice__brown_spot' or i == 'Brown spot':\n",
    "        modified_disease = 'Rice_Brownspot'\n",
    "        modified_symptom = 'Brown_spot'\n",
    "    elif i == 'Tungro':\n",
    "        modified_disease = 'Rice_Tungro'\n",
    "        modified_symptom = 'Tungro'\n",
    "    elif i == 'False_Smut':\n",
    "        modified_disease = 'Rice_False_Smut'\n",
    "        modified_symptom = 'False_Smut'\n",
    "    elif i == 'Sheath_Blight_Rot':\n",
    "        modified_disease = 'Rice_Sheath_Blight_Rot'\n",
    "        modified_symptom = 'Sheath_Blight_Rot'\n",
    "    elif i == 'Hispa' or i == 'Rice__hispa':\n",
    "        modified_disease = 'rice hispa'\n",
    "        modified_symptom = 'Hispa'\n",
    "    elif i == 'Stemborer':\n",
    "        modified_disease = 'Rice stemborer'\n",
    "        modified_symptom = 'Stemborer'\n",
    "    elif i == 'Leaf smut':\n",
    "        modified_disease = 'rice leaf smut'\n",
    "        modified_symptom = 'Leaf smut'\n",
    "    else:\n",
    "        modified_disease = 'No disease'\n",
    "        modified_symptom = 'No symptoms'\n",
    "    \n",
    "    # Filter the original DataFrame\n",
    "    filtered_df = rice_details[rice_details['disease'] == i].copy()\n",
    "    filtered_df['disease'] = modified_disease\n",
    "    filtered_df['symptom'] = modified_symptom\n",
    "    \n",
    "    # Append the modified DataFrame to the list\n",
    "    scab_list.append(filtered_df)\n",
    "\n",
    "# Concatenate all modified DataFrames in the list\n",
    "rice_result = pd.concat(scab_list, ignore_index=True)\n",
    "rice_result['disease'].unique()"
   ]
  },
  {
   "cell_type": "markdown",
   "id": "17d32a6c-16df-4914-84c6-278f7fb25453",
   "metadata": {
    "tags": []
   },
   "source": [
    "# Citrus"
   ]
  },
  {
   "cell_type": "code",
   "execution_count": 35,
   "id": "67427e68-e2f1-4f4d-a106-8170664a842d",
   "metadata": {
    "tags": []
   },
   "outputs": [
    {
     "data": {
      "text/plain": [
       "array(['Black spot', 'Canker', 'Greening', 'Scab', 'healthy', 'Melanose',\n",
       "       'canker', 'greening'], dtype=object)"
      ]
     },
     "execution_count": 35,
     "metadata": {},
     "output_type": "execute_result"
    }
   ],
   "source": [
    "citrus_details = df_PDD_exculde[df_PDD_exculde['plant_name'] == 'Citrus']\n",
    "citrus_details['disease'].unique()"
   ]
  },
  {
   "cell_type": "code",
   "execution_count": 36,
   "id": "0f6d9886-b089-4faf-956d-21a95f00ef62",
   "metadata": {
    "tags": []
   },
   "outputs": [
    {
     "data": {
      "text/plain": [
       "array(['citrus_Black_spot', 'citrus_canker', 'citrus_greening',\n",
       "       'citrus_Scab', 'No disease', 'citrus_melanose'], dtype=object)"
      ]
     },
     "execution_count": 36,
     "metadata": {},
     "output_type": "execute_result"
    }
   ],
   "source": [
    "scab_list = []\n",
    "# df_PDD_exculd = df_PDD_exculde.copy()\n",
    "for i in citrus_details['disease'].unique():\n",
    "    # Check each class\n",
    "    \n",
    "    if i == 'Black spot':\n",
    "        modified_disease = 'citrus_Black_spot'\n",
    "        modified_symptom = 'Black_spot'\n",
    "    elif i == 'Canker' or i == 'canker':\n",
    "        modified_disease = 'citrus_canker'\n",
    "        modified_symptom = 'canker'\n",
    "    elif i == 'Greening' or i == 'greening':\n",
    "        modified_disease = 'citrus_greening'\n",
    "        modified_symptom = 'greening'\n",
    "    elif i == 'Scab':\n",
    "        modified_disease = 'citrus_Scab'\n",
    "        modified_symptom = 'scab'\n",
    "    elif i == 'Melanose':\n",
    "        modified_disease = 'citrus_melanose'\n",
    "        modified_symptom = 'Melanose'\n",
    "    else:\n",
    "        modified_disease = 'No disease'\n",
    "        modified_symptom = 'No symptoms'\n",
    "    \n",
    "    # Filter the original DataFrame\n",
    "    filtered_df = citrus_details[citrus_details['disease'] == i].copy()\n",
    "    filtered_df['disease'] = modified_disease\n",
    "    filtered_df['symptom'] = modified_symptom\n",
    "    \n",
    "    # Append the modified DataFrame to the list\n",
    "    scab_list.append(filtered_df)\n",
    "\n",
    "# Concatenate all modified DataFrames in the list\n",
    "citrus_result = pd.concat(scab_list, ignore_index=True)\n",
    "citrus_result['disease'].unique()"
   ]
  },
  {
   "cell_type": "markdown",
   "id": "869a15cc-7548-452b-b397-3fd0a398b38d",
   "metadata": {
    "tags": []
   },
   "source": [
    "# Cherry"
   ]
  },
  {
   "cell_type": "code",
   "execution_count": 37,
   "id": "64cb9d88-6af6-4026-88ec-3aedef395bbe",
   "metadata": {
    "tags": []
   },
   "outputs": [
    {
     "data": {
      "text/plain": [
       "array(['Cherry leaf', 'Cherry__healthy', 'Cherry__powdery_mildew',\n",
       "       'healthy', 'Powdery_mildew'], dtype=object)"
      ]
     },
     "execution_count": 37,
     "metadata": {},
     "output_type": "execute_result"
    }
   ],
   "source": [
    "cherry_details = df_PDD_exculde[df_PDD_exculde['plant_name'] == 'Cherry']\n",
    "cherry_details['disease'].unique()"
   ]
  },
  {
   "cell_type": "code",
   "execution_count": 38,
   "id": "99a4df48-f233-4155-ab27-411e00495aa5",
   "metadata": {
    "tags": []
   },
   "outputs": [
    {
     "data": {
      "text/plain": [
       "array(['No disease', 'cherry_powdery_mildew'], dtype=object)"
      ]
     },
     "execution_count": 38,
     "metadata": {},
     "output_type": "execute_result"
    }
   ],
   "source": [
    "clist = []\n",
    "# df_PDD_exculd = df_PDD_exculde.copy()\n",
    "for i in cherry_details['disease'].unique():\n",
    "    \n",
    "    \n",
    "    # Check each class\n",
    "    \n",
    "    if i == 'Powdery_mildew' or i == 'Cherry__powdery_mildew' :\n",
    "        modified_disease = 'cherry_powdery_mildew'\n",
    "        modified_symptom = 'powdery_mildew'\n",
    "    else:\n",
    "        modified_disease = 'No disease'\n",
    "        modified_symptom = 'No symptoms'\n",
    "   \n",
    "    \n",
    "    # Filter the original DataFrame\n",
    "    filtered_df = cherry_details[cherry_details['disease'] == i].copy()\n",
    "    filtered_df['disease'] = modified_disease\n",
    "    filtered_df['symptom'] = modified_symptom\n",
    "    \n",
    "    # Append the modified DataFrame to the list\n",
    "    clist.append(filtered_df)\n",
    "\n",
    "# Concatenate all modified DataFrames in the list\n",
    "cherry_result = pd.concat(clist, ignore_index=True)\n",
    "cherry_result['disease'].unique()"
   ]
  },
  {
   "cell_type": "markdown",
   "id": "504f4701-d51c-42b5-81e6-9508bd78c945",
   "metadata": {
    "tags": []
   },
   "source": [
    "# Soybeen"
   ]
  },
  {
   "cell_type": "code",
   "execution_count": 39,
   "id": "e113f4cc-9a0b-41a9-acc8-5ba94d70d8db",
   "metadata": {
    "tags": []
   },
   "outputs": [
    {
     "data": {
      "text/plain": [
       "array(['healthy', 'Soybean leaf', 'Soybean__bacterial_blight',\n",
       "       'Soybean__caterpillar', 'Soybean__diabrotica_speciosa',\n",
       "       'Soybean__downy_mildew', 'Soybean__healthy',\n",
       "       'Soybean__mosaic_virus', 'Soybean__powdery_mildew',\n",
       "       'Soybean__rust', 'Soybean__southern_blight'], dtype=object)"
      ]
     },
     "execution_count": 39,
     "metadata": {},
     "output_type": "execute_result"
    }
   ],
   "source": [
    "soybeen_details = df_PDD_exculde[df_PDD_exculde['plant_name'] == 'Soybean']\n",
    "soybeen_details['disease'].unique()"
   ]
  },
  {
   "cell_type": "code",
   "execution_count": 40,
   "id": "6c500663-0864-454a-b08d-28e1af26c27c",
   "metadata": {
    "tags": []
   },
   "outputs": [
    {
     "data": {
      "text/plain": [
       "array(['No disease', 'Soybean_bacterial_blight', 'Soybean_caterpillar',\n",
       "       'Soybean_diabrotica_speciosa', 'Soybean_downy_mildew',\n",
       "       'Soybean_mosaic_virus', 'Soybean_powdery_mildew', 'Soybean_rust',\n",
       "       'Soybean_southern_blight'], dtype=object)"
      ]
     },
     "execution_count": 40,
     "metadata": {},
     "output_type": "execute_result"
    }
   ],
   "source": [
    "scab_list = []\n",
    "# df_PDD_exculd = df_PDD_exculde.copy()\n",
    "for i in soybeen_details['disease'].unique():\n",
    "    # Check each class\n",
    "    \n",
    "    if i == 'Soybean__bacterial_blight':\n",
    "        modified_disease = 'Soybean_bacterial_blight'\n",
    "        modified_symptom = 'bacterial_blight'\n",
    "    elif i == 'Soybean__caterpillar':\n",
    "        modified_disease = 'Soybean_caterpillar'\n",
    "        modified_symptom = 'caterpillar'\n",
    "    elif i == 'Soybean__diabrotica_speciosa':\n",
    "        modified_disease = 'Soybean_diabrotica_speciosa'\n",
    "        modified_symptom = 'diabrotica_speciosa'\n",
    "    elif i == 'Soybean__downy_mildew':\n",
    "        modified_disease = 'Soybean_downy_mildew'\n",
    "        modified_symptom = 'downy_mildew'\n",
    "    elif i == 'Soybean__mosaic_virus':\n",
    "        modified_disease = 'Soybean_mosaic_virus'\n",
    "        modified_symptom = 'mosaic'\n",
    "    elif i == 'Soybean__powdery_mildew':\n",
    "        modified_disease = 'Soybean_powdery_mildew'\n",
    "        modified_symptom = 'powdery_mildew'\n",
    "    elif i == 'Soybean__rust':\n",
    "        modified_disease = 'Soybean_rust'\n",
    "        modified_symptom = 'rust'\n",
    "    elif i == 'Soybean__southern_blight':\n",
    "        modified_disease = 'Soybean_southern_blight'\n",
    "        modified_symptom = 'southern_blight'\n",
    "    else:\n",
    "        modified_disease = 'No disease'\n",
    "        modified_symptom = 'No symptoms'\n",
    "    \n",
    "    # Filter the original DataFrame\n",
    "    filtered_df = soybeen_details[soybeen_details['disease'] == i].copy()\n",
    "    filtered_df['disease'] = modified_disease\n",
    "    filtered_df['symptom'] = modified_symptom\n",
    "    \n",
    "    # Append the modified DataFrame to the list\n",
    "    scab_list.append(filtered_df)\n",
    "\n",
    "# Concatenate all modified DataFrames in the list\n",
    "soybeen_result = pd.concat(scab_list, ignore_index=True)\n",
    "soybeen_result['disease'].unique()"
   ]
  },
  {
   "cell_type": "markdown",
   "id": "a874e8f2-dd9c-4834-bcb8-29d7f04a7427",
   "metadata": {
    "tags": []
   },
   "source": [
    "# Potato"
   ]
  },
  {
   "cell_type": "code",
   "execution_count": 41,
   "id": "5d5350ab-25d4-4399-ae21-c95c58a5001f",
   "metadata": {
    "tags": []
   },
   "outputs": [
    {
     "data": {
      "text/plain": [
       "array(['Early_blight', 'Late_blight', 'healthy',\n",
       "       'Potato leaf early blight', 'Potato leaf late blight',\n",
       "       'Potato leaf', 'Potato__early_blight', 'Potato__healthy',\n",
       "       'Potato__late_blight'], dtype=object)"
      ]
     },
     "execution_count": 41,
     "metadata": {},
     "output_type": "execute_result"
    }
   ],
   "source": [
    "potato_details = df_PDD_exculde[df_PDD_exculde['plant_name'] == 'Potato']\n",
    "potato_details['disease'].unique()"
   ]
  },
  {
   "cell_type": "code",
   "execution_count": 42,
   "id": "e86d12ae-6327-41a0-9818-7ffb285961f5",
   "metadata": {
    "tags": []
   },
   "outputs": [
    {
     "data": {
      "text/plain": [
       "array(['potato_early_blight', 'potato_late_blight', 'No disease'],\n",
       "      dtype=object)"
      ]
     },
     "execution_count": 42,
     "metadata": {},
     "output_type": "execute_result"
    }
   ],
   "source": [
    "clist = []\n",
    "# df_PDD_exculd = df_PDD_exculde.copy()\n",
    "for i in potato_details['disease'].unique():\n",
    "    \n",
    "    \n",
    "    # Check each class\n",
    "    \n",
    "    if i == 'Early_blight' or i == 'Potato__early_blight' or i == 'Potato leaf early blight':\n",
    "        modified_disease = 'potato_early_blight'\n",
    "        modified_symptom = 'Early_blight'\n",
    "    elif i == 'Late_blight' or i == 'Potato leaf late blight' or i == 'Potato__late_blight':\n",
    "        modified_disease = 'potato_late_blight'\n",
    "        modified_symptom = 'Late_blight'\n",
    "    else:\n",
    "        modified_disease = 'No disease'\n",
    "        modified_symptom = 'No symptoms'\n",
    "   \n",
    "    \n",
    "    # Filter the original DataFrame\n",
    "    filtered_df = potato_details[potato_details['disease'] == i].copy()\n",
    "    filtered_df['disease'] = modified_disease\n",
    "    filtered_df['symptom'] = modified_symptom\n",
    "    \n",
    "    # Append the modified DataFrame to the list\n",
    "    clist.append(filtered_df)\n",
    "\n",
    "# Concatenate all modified DataFrames in the list\n",
    "potato_result = pd.concat(clist, ignore_index=True)\n",
    "potato_result['disease'].unique()"
   ]
  },
  {
   "cell_type": "markdown",
   "id": "4fc53ac1-7ef6-4bdb-9976-216d9e42b2e9",
   "metadata": {
    "tags": []
   },
   "source": [
    "# Pepper"
   ]
  },
  {
   "cell_type": "code",
   "execution_count": 43,
   "id": "ab8ada3a-a5b3-48ce-8633-25240f11e619",
   "metadata": {
    "tags": []
   },
   "outputs": [
    {
     "data": {
      "text/plain": [
       "array(['Bacterial_spot', 'healthy'], dtype=object)"
      ]
     },
     "execution_count": 43,
     "metadata": {},
     "output_type": "execute_result"
    }
   ],
   "source": [
    "pepper_details = df_PDD_exculde[df_PDD_exculde['plant_name'] == 'Pepper,_bell']\n",
    "pepper_details['disease'].unique()"
   ]
  },
  {
   "cell_type": "code",
   "execution_count": 44,
   "id": "1227100f-7dc3-445e-a699-ca609a8f0bc3",
   "metadata": {
    "tags": []
   },
   "outputs": [
    {
     "data": {
      "text/plain": [
       "array(['pepper_bacterial_spot', 'No disease'], dtype=object)"
      ]
     },
     "execution_count": 44,
     "metadata": {},
     "output_type": "execute_result"
    }
   ],
   "source": [
    "clist = []\n",
    "# df_PDD_exculd = df_PDD_exculde.copy()\n",
    "for i in pepper_details['disease'].unique():\n",
    "    \n",
    "    \n",
    "    # Check each class\n",
    "    \n",
    "    if i == 'Bacterial_spot' :\n",
    "        modified_disease = 'pepper_bacterial_spot'\n",
    "        modified_symptom = 'bacterial_spot'\n",
    "    else:\n",
    "        modified_disease = 'No disease'\n",
    "        modified_symptom = 'No symptoms'\n",
    "   \n",
    "    \n",
    "    # Filter the original DataFrame\n",
    "    filtered_df = pepper_details[pepper_details['disease'] == i].copy()\n",
    "    filtered_df['disease'] = modified_disease\n",
    "    filtered_df['symptom'] = modified_symptom\n",
    "    \n",
    "    # Append the modified DataFrame to the list\n",
    "    clist.append(filtered_df)\n",
    "\n",
    "# Concatenate all modified DataFrames in the list\n",
    "pepper_result = pd.concat(clist, ignore_index=True)\n",
    "pepper_result['disease'].unique()"
   ]
  },
  {
   "cell_type": "markdown",
   "id": "64560a96-0021-4d6b-8e85-6c6f90c12a34",
   "metadata": {},
   "source": [
    "# Peach"
   ]
  },
  {
   "cell_type": "code",
   "execution_count": 45,
   "id": "7a3d9773-a845-4239-8f7b-9ff314710138",
   "metadata": {
    "tags": []
   },
   "outputs": [
    {
     "data": {
      "text/plain": [
       "array(['Bacterial_spot', 'healthy', 'Peach leaf', 'Peach__bacterial_spot',\n",
       "       'Peach__healthy'], dtype=object)"
      ]
     },
     "execution_count": 45,
     "metadata": {},
     "output_type": "execute_result"
    }
   ],
   "source": [
    "peach_details = df_PDD_exculde[df_PDD_exculde['plant_name'] == 'Peach']\n",
    "peach_details['disease'].unique()"
   ]
  },
  {
   "cell_type": "code",
   "execution_count": 46,
   "id": "cb28525b-2b29-4b2b-8c20-6a94a87c792b",
   "metadata": {
    "tags": []
   },
   "outputs": [
    {
     "data": {
      "text/plain": [
       "array(['peach_bacterial_spot', 'No disease'], dtype=object)"
      ]
     },
     "execution_count": 46,
     "metadata": {},
     "output_type": "execute_result"
    }
   ],
   "source": [
    "clist = []\n",
    "# df_PDD_exculd = df_PDD_exculde.copy()\n",
    "for i in peach_details['disease'].unique():\n",
    "    \n",
    "    \n",
    "    # Check each class\n",
    "    \n",
    "    if i == 'Bacterial_spot'or i == 'Peach__bacterial_spot' :\n",
    "        modified_disease = 'peach_bacterial_spot'\n",
    "        modified_symptom = 'bacterial_spot'\n",
    "    else:\n",
    "        modified_disease = 'No disease'\n",
    "        modified_symptom = 'No symptoms'\n",
    "   \n",
    "    \n",
    "    # Filter the original DataFrame\n",
    "    filtered_df = peach_details[peach_details['disease'] == i].copy()\n",
    "    filtered_df['disease'] = modified_disease\n",
    "    filtered_df['symptom'] = modified_symptom\n",
    "    \n",
    "    # Append the modified DataFrame to the list\n",
    "    clist.append(filtered_df)\n",
    "\n",
    "# Concatenate all modified DataFrames in the list\n",
    "peach_result = pd.concat(clist, ignore_index=True)\n",
    "peach_result['disease'].unique()"
   ]
  },
  {
   "cell_type": "markdown",
   "id": "411fe425-acfe-4e00-bb19-846498ce0c71",
   "metadata": {},
   "source": [
    "# Orange"
   ]
  },
  {
   "cell_type": "code",
   "execution_count": 47,
   "id": "055bc382-c67a-43a3-bc00-e5fd1cff0120",
   "metadata": {
    "tags": []
   },
   "outputs": [
    {
     "data": {
      "text/plain": [
       "array(['Haunglongbing_(Citrus_greening)'], dtype=object)"
      ]
     },
     "execution_count": 47,
     "metadata": {},
     "output_type": "execute_result"
    }
   ],
   "source": [
    "orange_details = df_PDD_exculde[df_PDD_exculde['plant_name'] == 'Orange']\n",
    "orange_details['disease'].unique()"
   ]
  },
  {
   "cell_type": "code",
   "execution_count": 48,
   "id": "5030ad0d-e321-4799-9ef3-453a27597506",
   "metadata": {
    "tags": []
   },
   "outputs": [
    {
     "data": {
      "text/plain": [
       "array(['orange_haunglongbing_(Citrus_greening)'], dtype=object)"
      ]
     },
     "execution_count": 48,
     "metadata": {},
     "output_type": "execute_result"
    }
   ],
   "source": [
    "clist = []\n",
    "# df_PDD_exculd = df_PDD_exculde.copy()\n",
    "for i in orange_details['disease'].unique():\n",
    "    modified_disease = 'orange_haunglongbing_(Citrus_greening)'\n",
    "    modified_symptom = 'Haunglongbing_(Citrus_greening)'\n",
    "    \n",
    "    # Filter the original DataFrame\n",
    "    filtered_df = orange_details[orange_details['disease'] == i].copy()\n",
    "    filtered_df['disease'] = modified_disease\n",
    "    filtered_df['symptom'] = modified_symptom\n",
    "    \n",
    "    # Append the modified DataFrame to the list\n",
    "    clist.append(filtered_df)\n",
    "\n",
    "# Concatenate all modified DataFrames in the list\n",
    "orange_result = pd.concat(clist, ignore_index=True)\n",
    "orange_result['disease'].unique()"
   ]
  },
  {
   "cell_type": "markdown",
   "id": "b080b1e8-14cd-43c7-8b74-11dc5ef74d06",
   "metadata": {},
   "source": [
    "# Grape"
   ]
  },
  {
   "cell_type": "code",
   "execution_count": 49,
   "id": "274da12e-aacf-49ec-aae9-8ac85e3ecc82",
   "metadata": {
    "tags": []
   },
   "outputs": [
    {
     "data": {
      "text/plain": [
       "array(['Black_rot', 'Esca_(Black_Measles)',\n",
       "       'Leaf_blight_(Isariopsis_Leaf_Spot)', 'healthy',\n",
       "       'Grape__black_measles', 'Grape__black_rot', 'Grape__healthy',\n",
       "       'Grape__leaf_blight_(isariopsis_leaf_spot)', 'Grape___Black_rot',\n",
       "       'Grape___Esca_(Black_Measles)',\n",
       "       'Grape___Leaf_blight_(Isariopsis_Leaf_Spot)', 'Grape___healthy'],\n",
       "      dtype=object)"
      ]
     },
     "execution_count": 49,
     "metadata": {},
     "output_type": "execute_result"
    }
   ],
   "source": [
    "grape_details = df_PDD_exculde[df_PDD_exculde['plant_name'] == 'Grape']\n",
    "grape_details['disease'].unique()"
   ]
  },
  {
   "cell_type": "code",
   "execution_count": 51,
   "id": "ae693a40-ac94-427c-a8d6-b65178b58dec",
   "metadata": {
    "tags": []
   },
   "outputs": [
    {
     "data": {
      "text/plain": [
       "array(['grape_black_rot', 'grape_Esca_(Black_Measles)',\n",
       "       'grape_Leaf_blight_(Isariopsis_Leaf_Spot)', 'No disease'],\n",
       "      dtype=object)"
      ]
     },
     "execution_count": 51,
     "metadata": {},
     "output_type": "execute_result"
    }
   ],
   "source": [
    "clist = []\n",
    "# df_PDD_exculd = df_PDD_exculde.copy()\n",
    "for i in grape_details['disease'].unique():\n",
    "    \n",
    "    \n",
    "    # Check each class\n",
    "    \n",
    "    if i == 'Black_rot' or i == 'Grape___Black_rot' or i == 'Grape__black_rot':\n",
    "        modified_disease = 'grape_black_rot'\n",
    "        modified_symptom = 'black_rot'\n",
    "    elif i == 'Esca_(Black_Measles)' or i == 'Grape___Esca_(Black_Measles)' or i == 'Grape__black_measles':\n",
    "        modified_disease = 'grape_Esca_(Black_Measles)'\n",
    "        modified_symptom = 'Esca_(Black_Measles)'\n",
    "    elif i == 'Leaf_blight_(Isariopsis_Leaf_Spot)' or i == 'Grape__leaf_blight_(isariopsis_leaf_spot)' or i == 'Grape___Leaf_blight_(Isariopsis_Leaf_Spot)':\n",
    "        modified_disease = 'grape_Leaf_blight_(Isariopsis_Leaf_Spot)'\n",
    "        modified_symptom = 'Leaf_blight_(Isariopsis_Leaf_Spot)'\n",
    "    else:\n",
    "        modified_disease = 'No disease'\n",
    "        modified_symptom = 'No symptoms'\n",
    "   \n",
    "    \n",
    "    # Filter the original DataFrame\n",
    "    filtered_df = grape_details[grape_details['disease'] == i].copy()\n",
    "    filtered_df['disease'] = modified_disease\n",
    "    filtered_df['symptom'] = modified_symptom\n",
    "    \n",
    "    # Append the modified DataFrame to the list\n",
    "    clist.append(filtered_df)\n",
    "\n",
    "# Concatenate all modified DataFrames in the list\n",
    "grape_result = pd.concat(clist, ignore_index=True)\n",
    "grape_result.disease.unique()"
   ]
  },
  {
   "cell_type": "markdown",
   "id": "d289bc89-915b-49c6-a50c-a60da755cfb1",
   "metadata": {},
   "source": [
    "# Corn_(maize)"
   ]
  },
  {
   "cell_type": "code",
   "execution_count": 52,
   "id": "2c743738-fb0a-426a-ab97-7a133b922a6f",
   "metadata": {
    "tags": []
   },
   "outputs": [
    {
     "data": {
      "text/plain": [
       "array(['Cercospora_leaf_spot Gray_leaf_spot', 'Common_rust_',\n",
       "       'Northern_Leaf_Blight', 'healthy'], dtype=object)"
      ]
     },
     "execution_count": 52,
     "metadata": {},
     "output_type": "execute_result"
    }
   ],
   "source": [
    "corn_details = df_PDD_exculde[df_PDD_exculde['plant_name'] == 'Corn_(maize)']\n",
    "corn_details['disease'].unique()"
   ]
  },
  {
   "cell_type": "code",
   "execution_count": 53,
   "id": "dc55d729-90cf-483e-9793-1ba2b1618811",
   "metadata": {
    "tags": []
   },
   "outputs": [
    {
     "data": {
      "text/plain": [
       "array(['Corn_Cercospora_leaf_spot Gray_leaf_spot', 'Corn_Common_rust',\n",
       "       'Corn_Northern_Leaf_Blight', 'No disease'], dtype=object)"
      ]
     },
     "execution_count": 53,
     "metadata": {},
     "output_type": "execute_result"
    }
   ],
   "source": [
    "clist = []\n",
    "# df_PDD_exculd = df_PDD_exculde.copy()\n",
    "for i in corn_details['disease'].unique():\n",
    "    \n",
    "    \n",
    "    # Check each class\n",
    "    \n",
    "    if i == 'Cercospora_leaf_spot Gray_leaf_spot':\n",
    "        modified_disease = 'Corn_Cercospora_leaf_spot Gray_leaf_spot'\n",
    "        modified_symptom = 'Cercospora_leaf_spot Gray_leaf_spot'\n",
    "    elif i == 'Common_rust_':\n",
    "        modified_disease = 'Corn_Common_rust'\n",
    "        modified_symptom = 'Common_rust'\n",
    "    elif i == 'Northern_Leaf_Blight':\n",
    "        modified_disease = 'Corn_Northern_Leaf_Blight'\n",
    "        modified_symptom = 'Leaf_Blight'\n",
    "    elif i == 'healthy':\n",
    "        modified_disease = 'No disease'\n",
    "        modified_symptom = 'No symptoms'\n",
    "   \n",
    "    \n",
    "    # Filter the original DataFrame\n",
    "    filtered_df = corn_details[corn_details['disease'] == i].copy()\n",
    "    filtered_df['disease'] = modified_disease\n",
    "    filtered_df['symptom'] = modified_symptom\n",
    "    \n",
    "    # Append the modified DataFrame to the list\n",
    "    clist.append(filtered_df)\n",
    "\n",
    "# Concatenate all modified DataFrames in the list\n",
    "corn_result = pd.concat(clist, ignore_index=True)\n",
    "corn_result['disease'].unique()"
   ]
  },
  {
   "cell_type": "markdown",
   "id": "daf828d2-a770-40e1-8740-a60d8c3d11ec",
   "metadata": {},
   "source": [
    "# Apple"
   ]
  },
  {
   "cell_type": "code",
   "execution_count": 54,
   "id": "1923ebc5-73f7-41b2-8484-ae9376b02a83",
   "metadata": {
    "tags": []
   },
   "outputs": [
    {
     "data": {
      "text/plain": [
       "array(['Apple_scab', 'Black_rot', 'Cedar_apple_rust', 'healthy',\n",
       "       'Apple Scab Leaf', 'Apple rust leaf', 'Apple leaf',\n",
       "       'scab frog_eye_leaf_spot complex', 'scab', 'complex', 'rust',\n",
       "       'frog_eye_leaf_spot', 'powdery_mildew', 'scab frog_eye_leaf_spot',\n",
       "       'frog_eye_leaf_spot complex', 'rust frog_eye_leaf_spot',\n",
       "       'powdery_mildew complex', 'rust complex', 'Apple__black_rot',\n",
       "       'Apple__healthy', 'Apple__rust', 'Apple__scab'], dtype=object)"
      ]
     },
     "execution_count": 54,
     "metadata": {},
     "output_type": "execute_result"
    }
   ],
   "source": [
    "apple_details = df_PDD_exculde[df_PDD_exculde['plant_name'] == 'Apple']\n",
    "apple_details['disease'].unique()"
   ]
  },
  {
   "cell_type": "code",
   "execution_count": 55,
   "id": "9e805479-461e-4d65-a505-c0ffdf8ad489",
   "metadata": {
    "tags": []
   },
   "outputs": [
    {
     "data": {
      "text/plain": [
       "array(['apple_scab', 'apple_black_rot', 'apple_rust', 'No disease',\n",
       "       'multiple disease', 'apple_frog_eye_spot', 'apple_powdery_mildew'],\n",
       "      dtype=object)"
      ]
     },
     "execution_count": 55,
     "metadata": {},
     "output_type": "execute_result"
    }
   ],
   "source": [
    "scab_list = []\n",
    "# df_PDD_exculd = df_PDD_exculde.copy()\n",
    "for i in apple_details['disease'].unique():\n",
    "    scab_class = ['Apple_scab', 'Apple Scab Leaf', 'Apple__scab', 'scab']\n",
    "    black_rot_class = ['Black_rot', 'Apple__black_rot']\n",
    "    rust_class = ['Cedar_apple_rust', 'Apple__rust', 'rust', 'Apple rust leaf']\n",
    "    apple_healthy_class = ['healthy', 'Apple__healthy', 'Apple leaf']\n",
    "    apple_complex_class = ['scab frog_eye_leaf_spot complex', 'complex', 'scab frog_eye_leaf_spot', 'frog_eye_leaf_spot complex', 'rust frog_eye_leaf_spot', 'rust complex', 'powdery_mildew complex']\n",
    "    \n",
    "    # Check each class\n",
    "    \n",
    "    if i in scab_class:\n",
    "        modified_disease = 'apple_scab'\n",
    "        modified_symptom = 'scab'\n",
    "    elif i in black_rot_class:\n",
    "        modified_disease = 'apple_black_rot'\n",
    "        modified_symptom = 'black_rot'\n",
    "    elif i in rust_class:\n",
    "        modified_disease = 'apple_rust'\n",
    "        modified_symptom = 'rust'\n",
    "    elif i == 'frog_eye_leaf_spot':\n",
    "        modified_disease = 'apple_frog_eye_spot'\n",
    "        modified_symptom = 'frog_eye_spot'\n",
    "    elif i == 'powdery_mildew':\n",
    "        modified_disease = 'apple_powdery_mildew'\n",
    "        modified_symptom = 'powdery_mildew'\n",
    "    elif i in apple_healthy_class:\n",
    "        modified_disease = 'No disease'\n",
    "        modified_symptom = 'No symptoms'\n",
    "    elif i in apple_complex_class:\n",
    "        modified_disease = 'multiple disease'\n",
    "        modified_symptom = 'multiple symptoms'\n",
    "    \n",
    "    # Filter the original DataFrame\n",
    "    filtered_df = apple_details[apple_details['disease'] == i].copy()\n",
    "    filtered_df['disease'] = modified_disease\n",
    "    filtered_df['symptom'] = modified_symptom\n",
    "    \n",
    "    # Append the modified DataFrame to the list\n",
    "    scab_list.append(filtered_df)\n",
    "\n",
    "# Concatenate all modified DataFrames in the list\n",
    "apple_result = pd.concat(scab_list, ignore_index=True)\n",
    "apple_result['disease'].unique()"
   ]
  },
  {
   "cell_type": "markdown",
   "id": "633ce172-1dd7-419a-a9f7-6b46b6df6b4a",
   "metadata": {},
   "source": [
    "# Cherry_(including_sour)\n"
   ]
  },
  {
   "cell_type": "code",
   "execution_count": 56,
   "id": "5e2acad8-8d9d-4f50-840a-96a43fded13c",
   "metadata": {
    "tags": []
   },
   "outputs": [
    {
     "data": {
      "text/plain": [
       "array(['Powdery_mildew', 'healthy'], dtype=object)"
      ]
     },
     "execution_count": 56,
     "metadata": {},
     "output_type": "execute_result"
    }
   ],
   "source": [
    "Cherry_details = df_PDD_exculde[df_PDD_exculde['plant_name'] == 'Cherry_(including_sour)']\n",
    "Cherry_details['disease'].unique()"
   ]
  },
  {
   "cell_type": "code",
   "execution_count": 57,
   "id": "14f8a36f-fbc3-4c7e-a50e-65518b462114",
   "metadata": {
    "tags": []
   },
   "outputs": [
    {
     "data": {
      "text/plain": [
       "array(['No disease', 'Cherry_Powdery_mildew'], dtype=object)"
      ]
     },
     "execution_count": 57,
     "metadata": {},
     "output_type": "execute_result"
    }
   ],
   "source": [
    "clist = []\n",
    "# df_PDD_exculd = df_PDD_exculde.copy()\n",
    "for i in cherry_details['disease'].unique():\n",
    "    \n",
    "    \n",
    "    # Check each class\n",
    "    \n",
    "    if i == 'Powdery_mildew':\n",
    "        modified_disease = 'Cherry_Powdery_mildew'\n",
    "        modified_symptom = 'Powdery_mildew'\n",
    "    else:\n",
    "        modified_disease = 'No disease'\n",
    "        modified_symptom = 'No symptoms'\n",
    "   \n",
    "    \n",
    "    # Filter the original DataFrame\n",
    "    filtered_df = cherry_details[cherry_details['disease'] == i].copy()\n",
    "    filtered_df['disease'] = modified_disease\n",
    "    filtered_df['symptom'] = modified_symptom\n",
    "    \n",
    "    # Append the modified DataFrame to the list\n",
    "    clist.append(filtered_df)\n",
    "\n",
    "# Concatenate all modified DataFrames in the list\n",
    "Cheery_result = pd.concat(clist, ignore_index=True)\n",
    "Cheery_result['disease'].unique()"
   ]
  },
  {
   "cell_type": "markdown",
   "id": "431a2b6e-2973-49b2-83c4-aa4146d08ea0",
   "metadata": {},
   "source": [
    "# Squash"
   ]
  },
  {
   "cell_type": "code",
   "execution_count": 58,
   "id": "6f7486e9-cb5b-4b84-8e99-b3736a14878a",
   "metadata": {
    "tags": []
   },
   "outputs": [
    {
     "data": {
      "text/plain": [
       "array(['Powdery_mildew', 'Squash Powdery mildew leaf'], dtype=object)"
      ]
     },
     "execution_count": 58,
     "metadata": {},
     "output_type": "execute_result"
    }
   ],
   "source": [
    "squash_details = df_PDD_exculde[df_PDD_exculde['plant_name'] == 'Squash']\n",
    "squash_details['disease'].unique()"
   ]
  },
  {
   "cell_type": "code",
   "execution_count": 59,
   "id": "9e6beb36-943e-42d1-bfe0-0615cc2d9c80",
   "metadata": {
    "tags": []
   },
   "outputs": [
    {
     "data": {
      "text/plain": [
       "array(['squash_Powdery_mildew'], dtype=object)"
      ]
     },
     "execution_count": 59,
     "metadata": {},
     "output_type": "execute_result"
    }
   ],
   "source": [
    "clist = []\n",
    "# df_PDD_exculd = df_PDD_exculde.copy()\n",
    "for i in squash_details['disease'].unique():\n",
    "    \n",
    "    \n",
    "    # Check each class\n",
    "    \n",
    "    if i == 'Powdery_mildew' or i == 'Squash Powdery mildew leaf':\n",
    "        modified_disease = 'squash_Powdery_mildew'\n",
    "        modified_symptom = 'Powdery_mildew'\n",
    "    \n",
    "   \n",
    "    \n",
    "    # Filter the original DataFrame\n",
    "    filtered_df = cherry_details[cherry_details['disease'] == i].copy()\n",
    "    filtered_df['disease'] = modified_disease\n",
    "    filtered_df['symptom'] = modified_symptom\n",
    "    \n",
    "    # Append the modified DataFrame to the list\n",
    "    clist.append(filtered_df)\n",
    "\n",
    "# Concatenate all modified DataFrames in the list\n",
    "squash_result = pd.concat(clist, ignore_index=True)\n",
    "squash_result['disease'].unique()"
   ]
  },
  {
   "cell_type": "markdown",
   "id": "b6008d91-fb0c-4b6e-98ea-5c93f4435a47",
   "metadata": {},
   "source": [
    "# Strawberry"
   ]
  },
  {
   "cell_type": "code",
   "execution_count": 60,
   "id": "7cddfbb0-c227-4ec9-b99a-99e26f93e515",
   "metadata": {
    "tags": []
   },
   "outputs": [
    {
     "data": {
      "text/plain": [
       "array(['Leaf_scorch', 'healthy', 'Strawberry leaf', 'Strawberry__healthy',\n",
       "       'Strawberry___leaf_scorch'], dtype=object)"
      ]
     },
     "execution_count": 60,
     "metadata": {},
     "output_type": "execute_result"
    }
   ],
   "source": [
    "straw_details = df_PDD_exculde[df_PDD_exculde['plant_name'] == 'Strawberry']\n",
    "straw_details['disease'].unique()"
   ]
  },
  {
   "cell_type": "code",
   "execution_count": 61,
   "id": "df0c6c78-25be-4520-9ede-9c447f7568ae",
   "metadata": {
    "tags": []
   },
   "outputs": [
    {
     "data": {
      "text/plain": [
       "array(['strawberry_Leaf_scorch', 'No disease'], dtype=object)"
      ]
     },
     "execution_count": 61,
     "metadata": {},
     "output_type": "execute_result"
    }
   ],
   "source": [
    "clist = []\n",
    "# df_PDD_exculd = df_PDD_exculde.copy()\n",
    "for i in straw_details['disease'].unique():\n",
    "    \n",
    "    \n",
    "    # Check each class\n",
    "    \n",
    "    if i == 'Leaf_scorch' or i == 'Strawberry___leaf_scorch':\n",
    "        modified_disease = 'strawberry_Leaf_scorch'\n",
    "        modified_symptom = 'Leaf_scorch'\n",
    "    else:\n",
    "        modified_disease = 'No disease'\n",
    "        modified_symptom = 'No symptoms'\n",
    "   \n",
    "    \n",
    "    # Filter the original DataFrame\n",
    "    filtered_df = straw_details[straw_details['disease'] == i].copy()\n",
    "    filtered_df['disease'] = modified_disease\n",
    "    filtered_df['symptom'] = modified_symptom\n",
    "    \n",
    "    # Append the modified DataFrame to the list\n",
    "    clist.append(filtered_df)\n",
    "\n",
    "# Concatenate all modified DataFrames in the list\n",
    "straw_result = pd.concat(clist, ignore_index=True)\n",
    "straw_result['disease'].unique()"
   ]
  },
  {
   "cell_type": "markdown",
   "id": "42ad9492-d7a3-4d3e-9f5d-30b63ba8247a",
   "metadata": {
    "tags": []
   },
   "source": [
    "# tomato"
   ]
  },
  {
   "cell_type": "code",
   "execution_count": 62,
   "id": "a84a1771-41e5-42dd-a39b-de026e4827f4",
   "metadata": {
    "tags": []
   },
   "outputs": [
    {
     "data": {
      "text/plain": [
       "array(['Bacterial_spot', 'Early_blight', 'Late_blight', 'Leaf_Mold',\n",
       "       'Septoria_leaf_spot', 'Spider_mites Two-spotted_spider_mite',\n",
       "       'Target_Spot', 'Tomato_Yellow_Leaf_Curl_Virus',\n",
       "       'Tomato_mosaic_virus', 'healthy', 'Tomato leaf late blight',\n",
       "       'Tomato Septoria leaf spot', 'Tomato mold leaf',\n",
       "       'Tomato leaf yellow virus', 'Tomato leaf bacterial spot',\n",
       "       'Tomato leaf mosaic virus', 'Tomato Early blight leaf',\n",
       "       'Tomato leaf', 'Tomato two spotted spider mites leaf',\n",
       "       'powdery_mildew', 'Tomato__bacterial_spot', 'Tomato__early_blight',\n",
       "       'Tomato__healthy', 'Tomato__late_blight', 'Tomato__leaf_mold',\n",
       "       'Tomato__mosaic_virus', 'Tomato__septoria_leaf_spot',\n",
       "       'Tomato__spider_mites_(two_spotted_spider_mite)',\n",
       "       'Tomato__target_spot', 'Tomato__yellow_leaf_curl_virus'],\n",
       "      dtype=object)"
      ]
     },
     "execution_count": 62,
     "metadata": {},
     "output_type": "execute_result"
    }
   ],
   "source": [
    "tomato_details = df_PDD_exculde[df_PDD_exculde['plant_name'] == 'Tomato']\n",
    "tomato_details['disease'].unique()"
   ]
  },
  {
   "cell_type": "code",
   "execution_count": 63,
   "id": "2a083e55-14f7-44c8-bc8e-4de6576671f8",
   "metadata": {
    "tags": []
   },
   "outputs": [
    {
     "data": {
      "text/plain": [
       "array(['tomato_bacterial_spot', 'tomato_early_blight',\n",
       "       'Tomato_late_blight', 'Tomato_leaf_mold',\n",
       "       'Tomato_Septoria_leaf_spot', 'Tomato_spider_mites',\n",
       "       'Tomato_target_spot', 'Tomato_yellow_leaf_curl_virus',\n",
       "       'Tomato_mosaic_virus', 'No disease', 'tomato_powdery_mildew'],\n",
       "      dtype=object)"
      ]
     },
     "execution_count": 63,
     "metadata": {},
     "output_type": "execute_result"
    }
   ],
   "source": [
    "scab_list = []\n",
    "# df_PDD_exculd = df_PDD_exculde.copy()\n",
    "for i in tomato_details['disease'].unique():\n",
    "    earlyblight_class = ['Early_blight', 'Tomato Early blight leaf', 'Tomato__early_blight', ]\n",
    "    bacterialspot_class = ['Bacterial_spot', 'Tomato leaf bacterial spot','Tomato__bacterial_spot']\n",
    "    lateblight_class = ['Late_blight', 'Tomato leaf late blight', 'Tomato__late_blight', 'Apple rust leaf']\n",
    "    leafmold_class = ['Leaf_Mold', 'Tomato mold leaf', 'Tomato__leaf_mold']\n",
    "    septoria_class = ['Septoria_leaf_spot', 'Tomato Septoria leaf spot', 'Tomato__septoria_leaf_spot']\n",
    "    spider_mate_class = ['Spider_mites Two-spotted_spider_mite', 'Tomato two spotted spider mites leaf', 'Tomato__spider_mites_(two_spotted_spider_mite)']\n",
    "    target_spot_class = ['Target_Spot', 'Tomato__target_spot', ]\n",
    "    yellowleaf_class = ['Tomato_Yellow_Leaf_Curl_Virus','Tomato leaf yellow virus', 'Tomato__yellow_leaf_curl_virus']\n",
    "    mosaic_class = ['Tomato_mosaic_virus', 'Tomato leaf mosaic virus','Tomato__mosaic_virus' ]\n",
    "    \n",
    "    \n",
    "    # Check each class\n",
    "    \n",
    "    if i == 'powdery_mildew':\n",
    "        modified_disease = 'tomato_powdery_mildew'\n",
    "        modified_symptom = 'powdery_mildew'\n",
    "    elif i in earlyblight_class:\n",
    "        modified_disease = 'tomato_early_blight'\n",
    "        modified_symptom = 'early_blight'\n",
    "    elif i in bacterialspot_class:\n",
    "        modified_disease = 'tomato_bacterial_spot'\n",
    "        modified_symptom = 'Bacterial_spot'\n",
    "    elif i in lateblight_class:\n",
    "        modified_disease = 'Tomato_late_blight'\n",
    "        modified_symptom = 'late_blight'\n",
    "    elif i in leafmold_class:\n",
    "        modified_disease = 'Tomato_leaf_mold'\n",
    "        modified_symptom = 'leaf_mold'\n",
    "    elif i in septoria_class:\n",
    "        modified_disease = 'Tomato_Septoria_leaf_spot'\n",
    "        modified_symptom = 'Septoria_leaf_spot'\n",
    "    elif i in spider_mate_class:\n",
    "        modified_disease = 'Tomato_spider_mites'\n",
    "        modified_symptom = 'spider_mites_two_spotted'\n",
    "    elif i in target_spot_class:\n",
    "        modified_disease = 'Tomato_target_spot'\n",
    "        modified_symptom = 'target_spot'\n",
    "    elif i in yellowleaf_class:\n",
    "        modified_disease = 'Tomato_yellow_leaf_curl_virus'\n",
    "        modified_symptom = 'yellow_leaf_curl'\n",
    "    elif i in mosaic_class:\n",
    "        modified_disease = 'Tomato_mosaic_virus'\n",
    "        modified_symptom = 'mosaic'\n",
    "    else:\n",
    "        modified_disease = 'No disease'\n",
    "        modified_symptom = 'No symptoms'\n",
    "\n",
    "    \n",
    "    # Filter the original DataFrame\n",
    "    filtered_df = tomato_details[tomato_details['disease'] == i].copy()\n",
    "    filtered_df['disease'] = modified_disease\n",
    "    filtered_df['symptom'] = modified_symptom\n",
    "    \n",
    "    # Append the modified DataFrame to the list\n",
    "    scab_list.append(filtered_df)\n",
    "\n",
    "# Concatenate all modified DataFrames in the list\n",
    "tomato_result = pd.concat(scab_list, ignore_index=True)\n",
    "tomato_result['disease'].unique()"
   ]
  },
  {
   "cell_type": "markdown",
   "id": "8b980d88-bdbc-40ba-afce-7db0ee3d4dae",
   "metadata": {},
   "source": [
    "# Corn"
   ]
  },
  {
   "cell_type": "code",
   "execution_count": 64,
   "id": "29e872c9-f1bf-44cf-96bd-51897d1dd042",
   "metadata": {
    "tags": []
   },
   "outputs": [
    {
     "data": {
      "text/plain": [
       "array(['Corn rust leaf', 'Corn leaf blight', 'Corn Gray leaf spot',\n",
       "       'Corn__common_rust', 'Corn__gray_leaf_spot', 'Corn__healthy',\n",
       "       'Corn__northern_leaf_blight',\n",
       "       'Cercospora_leaf_spot Gray_leaf_spot', 'Common_rust', 'healthy',\n",
       "       'Northern_Leaf_Blight'], dtype=object)"
      ]
     },
     "execution_count": 64,
     "metadata": {},
     "output_type": "execute_result"
    }
   ],
   "source": [
    "Corn_details = df_PDD_exculde[df_PDD_exculde['plant_name'] == 'Corn']\n",
    "Corn_details['disease'].unique()"
   ]
  },
  {
   "cell_type": "code",
   "execution_count": null,
   "id": "4a312ea9-ce82-42bd-a38c-27c715d15180",
   "metadata": {},
   "outputs": [],
   "source": []
  },
  {
   "cell_type": "code",
   "execution_count": 65,
   "id": "5bc8c921-b141-42b2-bc5a-899b381b42b6",
   "metadata": {
    "tags": []
   },
   "outputs": [
    {
     "data": {
      "text/plain": [
       "array(['Corn__common_rust', 'Corn__northern_leaf_blight',\n",
       "       'Corn__gray_leaf_spot', 'No disease'], dtype=object)"
      ]
     },
     "execution_count": 65,
     "metadata": {},
     "output_type": "execute_result"
    }
   ],
   "source": [
    "scab_list = []\n",
    "# df_PDD_exculd = df_PDD_exculde.copy()\n",
    "for i in Corn_details['disease'].unique():\n",
    "    rust_class = ['Corn rust leaf', 'Corn__common_rust', 'Common_rust']\n",
    "    blight_class = ['Corn leaf blight', 'Corn__northern_leaf_blight','Northern_Leaf_Blight']\n",
    "    grayleaf_class = ['Corn Gray leaf spot', 'Corn__gray_leaf_spot', 'Cercospora_leaf_spot Gray_leaf_spot']\n",
    "    \n",
    "    \n",
    "    # Check each class\n",
    "    \n",
    "    if i in rust_class:\n",
    "        modified_disease = 'Corn__common_rust'\n",
    "        modified_symptom = 'common_rust'\n",
    "    elif i in blight_class:\n",
    "        modified_disease = 'Corn__northern_leaf_blight'\n",
    "        modified_symptom = 'Leaf_Blight'\n",
    "    elif i in grayleaf_class:\n",
    "        modified_disease = 'Corn__gray_leaf_spot'\n",
    "        modified_symptom = 'gray_leaf_spot'\n",
    "    else:\n",
    "        modified_disease = 'No disease'\n",
    "        modified_symptom = 'No symptoms'\n",
    "\n",
    "    \n",
    "    # Filter the original DataFrame\n",
    "    filtered_df = Corn_details[Corn_details['disease'] == i].copy()\n",
    "    filtered_df['disease'] = modified_disease\n",
    "    filtered_df['symptom'] = modified_symptom\n",
    "    \n",
    "    # Append the modified DataFrame to the list\n",
    "    scab_list.append(filtered_df)\n",
    "\n",
    "# Concatenate all modified DataFrames in the list\n",
    "corn_result = pd.concat(scab_list, ignore_index=True)\n",
    "corn_result['disease'].unique()"
   ]
  },
  {
   "cell_type": "markdown",
   "id": "13435278-84dc-4052-b374-88ab57e3148e",
   "metadata": {},
   "source": [
    "# Bell_pepper"
   ]
  },
  {
   "cell_type": "code",
   "execution_count": 66,
   "id": "c4573c44-a9db-4414-b596-fb29e8f85570",
   "metadata": {
    "tags": []
   },
   "outputs": [
    {
     "data": {
      "text/plain": [
       "array(['Bell_pepper leaf spot', 'Bell_pepper leaf'], dtype=object)"
      ]
     },
     "execution_count": 66,
     "metadata": {},
     "output_type": "execute_result"
    }
   ],
   "source": [
    "pepper1_details = df_PDD_exculde[df_PDD_exculde['plant_name'] == 'Bell_pepper']\n",
    "pepper1_details['disease'].unique()"
   ]
  },
  {
   "cell_type": "code",
   "execution_count": 67,
   "id": "a05cd81b-a856-437c-99ce-1e44ef5ebba6",
   "metadata": {
    "tags": []
   },
   "outputs": [
    {
     "data": {
      "text/plain": [
       "array(['Bell_pepper leaf spot', 'No disease'], dtype=object)"
      ]
     },
     "execution_count": 67,
     "metadata": {},
     "output_type": "execute_result"
    }
   ],
   "source": [
    "clist = []\n",
    "# df_PDD_exculd = df_PDD_exculde.copy()\n",
    "for i in pepper1_details['disease'].unique():\n",
    "    \n",
    "    \n",
    "    # Check each class\n",
    "    \n",
    "    if i == 'Bell_pepper leaf spot':\n",
    "        modified_disease = 'Bell_pepper leaf spot'\n",
    "        modified_symptom = 'bacterial_spot'\n",
    "    else:\n",
    "        modified_disease = 'No disease'\n",
    "        modified_symptom = 'No symptoms'\n",
    "   \n",
    "    \n",
    "    # Filter the original DataFrame\n",
    "    filtered_df = pepper1_details[pepper1_details['disease'] == i].copy()\n",
    "    filtered_df['disease'] = modified_disease\n",
    "    filtered_df['symptom'] = modified_symptom\n",
    "    \n",
    "    # Append the modified DataFrame to the list\n",
    "    clist.append(filtered_df)\n",
    "\n",
    "# Concatenate all modified DataFrames in the list\n",
    "pepper1_result = pd.concat(clist, ignore_index=True)\n",
    "pepper1_result['disease'].unique()"
   ]
  },
  {
   "cell_type": "markdown",
   "id": "e7b928ac-f001-44c2-bbd1-61d07c3a0ed7",
   "metadata": {
    "tags": []
   },
   "source": [
    "# grape"
   ]
  },
  {
   "cell_type": "code",
   "execution_count": 68,
   "id": "2727ecb6-3bb3-4791-9dd6-25d666bdbd5b",
   "metadata": {
    "tags": []
   },
   "outputs": [
    {
     "data": {
      "text/plain": [
       "array(['grape leaf black rot', 'grape leaf'], dtype=object)"
      ]
     },
     "execution_count": 68,
     "metadata": {},
     "output_type": "execute_result"
    }
   ],
   "source": [
    "grape1_details = df_PDD_exculde[df_PDD_exculde['plant_name'] == 'grape']\n",
    "grape1_details['disease'].unique()"
   ]
  },
  {
   "cell_type": "code",
   "execution_count": 69,
   "id": "247438af-1083-4475-9e3b-7037380ca7fd",
   "metadata": {
    "tags": []
   },
   "outputs": [
    {
     "data": {
      "text/plain": [
       "array(['black_rot', 'No symptoms'], dtype=object)"
      ]
     },
     "execution_count": 69,
     "metadata": {},
     "output_type": "execute_result"
    }
   ],
   "source": [
    "clist = []\n",
    "# df_PDD_exculd = df_PDD_exculde.copy()\n",
    "for i in grape1_details['disease'].unique():\n",
    "    \n",
    "    \n",
    "    # Check each class\n",
    "    \n",
    "    if i == 'grape leaf black rot':\n",
    "        modified_disease = 'grape leaf black rot'\n",
    "        modified_symptom = 'black_rot'\n",
    "    else:\n",
    "        modified_disease = 'No disease'\n",
    "        modified_symptom = 'No symptoms'\n",
    "   \n",
    "    \n",
    "    # Filter the original DataFrame\n",
    "    filtered_df = grape1_details[grape1_details['disease'] == i].copy()\n",
    "    filtered_df['disease'] = modified_disease\n",
    "    filtered_df['symptom'] = modified_symptom\n",
    "    \n",
    "    # Append the modified DataFrame to the list\n",
    "    clist.append(filtered_df)\n",
    "\n",
    "# Concatenate all modified DataFrames in the list\n",
    "grape1_result = pd.concat(clist, ignore_index=True)\n",
    "grape1_result['symptom'].unique()"
   ]
  },
  {
   "cell_type": "code",
   "execution_count": 70,
   "id": "24a873ff-b44b-4436-871f-6213501054e0",
   "metadata": {
    "tags": []
   },
   "outputs": [
    {
     "data": {
      "text/plain": [
       "array(['Apple', 'Blueberry', 'Cherry_(including_sour)', 'Corn_(maize)',\n",
       "       'Grape', 'Orange', 'Peach', 'Pepper,_bell', 'Potato', 'Raspberry',\n",
       "       'Soybean', 'Squash', 'Strawberry', 'Tomato', 'Corn', 'Bell_pepper',\n",
       "       'grape', 'Soyabean', 'Cherry', nan, '416', 'Citrus', 'Rice',\n",
       "       'wheat', 'Cassava', 'Chili', 'Coffee', 'Cucumber', 'Gauva',\n",
       "       'Jamun', 'Lemon', 'Mango', 'Pepper_bell', 'Pomegranate',\n",
       "       'Sugarcane', 'Tea', 'Wheat', 'Background_without_leaves',\n",
       "       'Alstonia', 'Arjun', 'Bael', 'Basil', 'Chinar', 'Jatropha',\n",
       "       'Pongamia', 'Alstonia Scholaris (P2)', 'Arjun (P1)',\n",
       "       'Chinar (P11)', 'Gauva (P3)', 'Jamun (P5)', 'Jatropha (P6)',\n",
       "       'Lemon (P10)', 'Mango (P0)', 'Pomegranate (P9)',\n",
       "       'Pongamia Pinnata (P7)', 'Guava'], dtype=object)"
      ]
     },
     "execution_count": 70,
     "metadata": {},
     "output_type": "execute_result"
    }
   ],
   "source": [
    "df_PDD_exculde['plant_name'].unique()"
   ]
  },
  {
   "cell_type": "code",
   "execution_count": 71,
   "id": "d1b4f332-0fbc-4b1c-8a41-6e861540ecf7",
   "metadata": {
    "tags": []
   },
   "outputs": [],
   "source": [
    "plant_disease_list = pd.concat([Cheery_result, apple_result , corn_result, grape_result,  orange_result, peach_result, pepper_result,\n",
    "potato_result, soybeen_result, cherry_result, citrus_result, rice_result,wheat_result ,cassava_result ,\n",
    "chilli_result, coffee_result, pepper_bell_result, sugarcane_result, tea_result,Wheat_result, guava_result, squash_result, straw_result,\n",
    "                                tomato_result,corn_result,pepper1_result,grape1_result])"
   ]
  },
  {
   "cell_type": "code",
   "execution_count": 242,
   "id": "ccd58546-f73c-4672-a91e-4f404e3da4e4",
   "metadata": {
    "tags": []
   },
   "outputs": [
    {
     "data": {
      "text/plain": [
       "array(['Cassava__bacterial_blight', 'Cassava__brown_streak_disease',\n",
       "       'Cassava__green_mottle', 'Cassava__healthy',\n",
       "       'Cassava__mosaic_disease'], dtype=object)"
      ]
     },
     "execution_count": 242,
     "metadata": {},
     "output_type": "execute_result"
    }
   ],
   "source": [
    "Cherry_details = df_PDD_exculde[df_PDD_exculde['plant_name'] == 'Cassava']\n",
    "Cherry_details['disease'].unique()"
   ]
  },
  {
   "cell_type": "code",
   "execution_count": 330,
   "id": "5b211f2d-6665-49c9-8954-86638a4c7d79",
   "metadata": {
    "tags": []
   },
   "outputs": [
    {
     "data": {
      "text/plain": [
       "Index(['data_set', 'plant_name', 'plant_part', 'disease', 'file_name',\n",
       "       'file_location', 'symptom'],\n",
       "      dtype='object')"
      ]
     },
     "execution_count": 330,
     "metadata": {},
     "output_type": "execute_result"
    }
   ],
   "source": [
    "plant_disease_list.columns"
   ]
  },
  {
   "cell_type": "code",
   "execution_count": 72,
   "id": "89baf6f5-eef9-4c67-8c6d-fcf58b22e4ad",
   "metadata": {
    "tags": []
   },
   "outputs": [],
   "source": [
    "cols = ['data_set', 'plant_name', 'plant_part', 'disease', 'symptom','file_name',\n",
    "       'file_location']\n",
    "final_dfff  = plant_disease_list[cols]"
   ]
  },
  {
   "cell_type": "code",
   "execution_count": 73,
   "id": "a2eb77ab-c4fd-49a9-b5ce-e5e49c94a8dd",
   "metadata": {
    "tags": []
   },
   "outputs": [],
   "source": [
    "final_dfff.to_csv('plant_disease_meta_v2_01.csv', index = False)"
   ]
  },
  {
   "cell_type": "code",
   "execution_count": 85,
   "id": "2be12f0c-ee8c-4319-8174-d35755e8b323",
   "metadata": {
    "tags": []
   },
   "outputs": [
    {
     "data": {
      "text/html": [
       "<div>\n",
       "<style scoped>\n",
       "    .dataframe tbody tr th:only-of-type {\n",
       "        vertical-align: middle;\n",
       "    }\n",
       "\n",
       "    .dataframe tbody tr th {\n",
       "        vertical-align: top;\n",
       "    }\n",
       "\n",
       "    .dataframe thead th {\n",
       "        text-align: right;\n",
       "    }\n",
       "</style>\n",
       "<table border=\"1\" class=\"dataframe\">\n",
       "  <thead>\n",
       "    <tr style=\"text-align: right;\">\n",
       "      <th></th>\n",
       "      <th>data_set</th>\n",
       "      <th>plant_name</th>\n",
       "      <th>plant_part</th>\n",
       "      <th>disease</th>\n",
       "      <th>symptom</th>\n",
       "      <th>file_name</th>\n",
       "      <th>file_location</th>\n",
       "    </tr>\n",
       "  </thead>\n",
       "  <tbody>\n",
       "    <tr>\n",
       "      <th>0</th>\n",
       "      <td>plant docs</td>\n",
       "      <td>Cherry</td>\n",
       "      <td>leaf</td>\n",
       "      <td>No disease</td>\n",
       "      <td>No symptoms</td>\n",
       "      <td>15%20CHOKE%20CHERRY_jpg.rf.076abbdb378e4d718f4...</td>\n",
       "      <td>PlantDocs/train</td>\n",
       "    </tr>\n",
       "    <tr>\n",
       "      <th>1</th>\n",
       "      <td>plant docs</td>\n",
       "      <td>Cherry</td>\n",
       "      <td>leaf</td>\n",
       "      <td>No disease</td>\n",
       "      <td>No symptoms</td>\n",
       "      <td>15%20CHOKE%20CHERRY_jpg.rf.076abbdb378e4d718f4...</td>\n",
       "      <td>PlantDocs/train</td>\n",
       "    </tr>\n",
       "    <tr>\n",
       "      <th>2</th>\n",
       "      <td>plant docs</td>\n",
       "      <td>Cherry</td>\n",
       "      <td>leaf</td>\n",
       "      <td>No disease</td>\n",
       "      <td>No symptoms</td>\n",
       "      <td>15%20CHOKE%20CHERRY_jpg.rf.076abbdb378e4d718f4...</td>\n",
       "      <td>PlantDocs/train</td>\n",
       "    </tr>\n",
       "    <tr>\n",
       "      <th>3</th>\n",
       "      <td>plant docs</td>\n",
       "      <td>Cherry</td>\n",
       "      <td>leaf</td>\n",
       "      <td>No disease</td>\n",
       "      <td>No symptoms</td>\n",
       "      <td>15%20CHOKE%20CHERRY_jpg.rf.076abbdb378e4d718f4...</td>\n",
       "      <td>PlantDocs/train</td>\n",
       "    </tr>\n",
       "    <tr>\n",
       "      <th>4</th>\n",
       "      <td>plant docs</td>\n",
       "      <td>Cherry</td>\n",
       "      <td>leaf</td>\n",
       "      <td>No disease</td>\n",
       "      <td>No symptoms</td>\n",
       "      <td>15%20CHOKE%20CHERRY_jpg.rf.076abbdb378e4d718f4...</td>\n",
       "      <td>PlantDocs/train</td>\n",
       "    </tr>\n",
       "    <tr>\n",
       "      <th>...</th>\n",
       "      <td>...</td>\n",
       "      <td>...</td>\n",
       "      <td>...</td>\n",
       "      <td>...</td>\n",
       "      <td>...</td>\n",
       "      <td>...</td>\n",
       "      <td>...</td>\n",
       "    </tr>\n",
       "    <tr>\n",
       "      <th>292827</th>\n",
       "      <td>plant docs</td>\n",
       "      <td>grape</td>\n",
       "      <td>leaf</td>\n",
       "      <td>No disease</td>\n",
       "      <td>No symptoms</td>\n",
       "      <td>grape2b_jpg.rf.ffbc48866d22fdde1f3d6337d73a15d...</td>\n",
       "      <td>PlantDocs/train</td>\n",
       "    </tr>\n",
       "    <tr>\n",
       "      <th>292828</th>\n",
       "      <td>plant docs</td>\n",
       "      <td>grape</td>\n",
       "      <td>leaf</td>\n",
       "      <td>No disease</td>\n",
       "      <td>No symptoms</td>\n",
       "      <td>grape2b_jpg.rf.ffbc48866d22fdde1f3d6337d73a15d...</td>\n",
       "      <td>PlantDocs/train</td>\n",
       "    </tr>\n",
       "    <tr>\n",
       "      <th>292829</th>\n",
       "      <td>plant docs</td>\n",
       "      <td>grape</td>\n",
       "      <td>leaf</td>\n",
       "      <td>No disease</td>\n",
       "      <td>No symptoms</td>\n",
       "      <td>grape2b_jpg.rf.ffbc48866d22fdde1f3d6337d73a15d...</td>\n",
       "      <td>PlantDocs/train</td>\n",
       "    </tr>\n",
       "    <tr>\n",
       "      <th>292830</th>\n",
       "      <td>plant docs</td>\n",
       "      <td>grape</td>\n",
       "      <td>leaf</td>\n",
       "      <td>No disease</td>\n",
       "      <td>No symptoms</td>\n",
       "      <td>grape2b_jpg.rf.ffbc48866d22fdde1f3d6337d73a15d...</td>\n",
       "      <td>PlantDocs/train</td>\n",
       "    </tr>\n",
       "    <tr>\n",
       "      <th>292831</th>\n",
       "      <td>plant docs</td>\n",
       "      <td>grape</td>\n",
       "      <td>leaf</td>\n",
       "      <td>No disease</td>\n",
       "      <td>No symptoms</td>\n",
       "      <td>grape2b_jpg.rf.ffbc48866d22fdde1f3d6337d73a15d...</td>\n",
       "      <td>PlantDocs/train</td>\n",
       "    </tr>\n",
       "  </tbody>\n",
       "</table>\n",
       "<p>292832 rows × 7 columns</p>\n",
       "</div>"
      ],
      "text/plain": [
       "          data_set plant_name plant_part     disease      symptom  \\\n",
       "0       plant docs     Cherry       leaf  No disease  No symptoms   \n",
       "1       plant docs     Cherry       leaf  No disease  No symptoms   \n",
       "2       plant docs     Cherry       leaf  No disease  No symptoms   \n",
       "3       plant docs     Cherry       leaf  No disease  No symptoms   \n",
       "4       plant docs     Cherry       leaf  No disease  No symptoms   \n",
       "...            ...        ...        ...         ...          ...   \n",
       "292827  plant docs      grape       leaf  No disease  No symptoms   \n",
       "292828  plant docs      grape       leaf  No disease  No symptoms   \n",
       "292829  plant docs      grape       leaf  No disease  No symptoms   \n",
       "292830  plant docs      grape       leaf  No disease  No symptoms   \n",
       "292831  plant docs      grape       leaf  No disease  No symptoms   \n",
       "\n",
       "                                                file_name    file_location  \n",
       "0       15%20CHOKE%20CHERRY_jpg.rf.076abbdb378e4d718f4...  PlantDocs/train  \n",
       "1       15%20CHOKE%20CHERRY_jpg.rf.076abbdb378e4d718f4...  PlantDocs/train  \n",
       "2       15%20CHOKE%20CHERRY_jpg.rf.076abbdb378e4d718f4...  PlantDocs/train  \n",
       "3       15%20CHOKE%20CHERRY_jpg.rf.076abbdb378e4d718f4...  PlantDocs/train  \n",
       "4       15%20CHOKE%20CHERRY_jpg.rf.076abbdb378e4d718f4...  PlantDocs/train  \n",
       "...                                                   ...              ...  \n",
       "292827  grape2b_jpg.rf.ffbc48866d22fdde1f3d6337d73a15d...  PlantDocs/train  \n",
       "292828  grape2b_jpg.rf.ffbc48866d22fdde1f3d6337d73a15d...  PlantDocs/train  \n",
       "292829  grape2b_jpg.rf.ffbc48866d22fdde1f3d6337d73a15d...  PlantDocs/train  \n",
       "292830  grape2b_jpg.rf.ffbc48866d22fdde1f3d6337d73a15d...  PlantDocs/train  \n",
       "292831  grape2b_jpg.rf.ffbc48866d22fdde1f3d6337d73a15d...  PlantDocs/train  \n",
       "\n",
       "[292832 rows x 7 columns]"
      ]
     },
     "execution_count": 85,
     "metadata": {},
     "output_type": "execute_result"
    }
   ],
   "source": [
    "meta_v2 = pd.read_csv('plant_disease_meta_v2_01.csv')\n",
    "meta_v2"
   ]
  },
  {
   "cell_type": "code",
   "execution_count": 75,
   "id": "5fb375a7-b3f3-4907-a392-35e8c7a18100",
   "metadata": {
    "tags": []
   },
   "outputs": [],
   "source": [
    "dis_sym = meta_v2[['disease', 'symptom']].drop_duplicates()\n",
    "dis_sym.to_csv('dis_sym_01.csv', index = False)"
   ]
  },
  {
   "cell_type": "code",
   "execution_count": 335,
   "id": "78c875ac-85ab-4c24-a518-66076b083b6e",
   "metadata": {
    "tags": []
   },
   "outputs": [],
   "source": [
    "dis = meta_v2['disease'].unique()\n",
    "df_disease = pd.DataFrame(dis)"
   ]
  },
  {
   "cell_type": "code",
   "execution_count": 336,
   "id": "13eaf488-5316-4f43-8723-ef483fde62d0",
   "metadata": {
    "tags": []
   },
   "outputs": [],
   "source": [
    "sym = meta_v2['symptom'].unique()\n",
    "df_sym = pd.DataFrame(sym)\n",
    "# df_sym\n"
   ]
  },
  {
   "cell_type": "code",
   "execution_count": 112,
   "id": "b1206979-1220-4e41-8327-65dcdf2c982e",
   "metadata": {
    "tags": []
   },
   "outputs": [
    {
     "data": {
      "text/html": [
       "<div>\n",
       "<style scoped>\n",
       "    .dataframe tbody tr th:only-of-type {\n",
       "        vertical-align: middle;\n",
       "    }\n",
       "\n",
       "    .dataframe tbody tr th {\n",
       "        vertical-align: top;\n",
       "    }\n",
       "\n",
       "    .dataframe thead th {\n",
       "        text-align: right;\n",
       "    }\n",
       "</style>\n",
       "<table border=\"1\" class=\"dataframe\">\n",
       "  <thead>\n",
       "    <tr style=\"text-align: right;\">\n",
       "      <th></th>\n",
       "      <th>0</th>\n",
       "    </tr>\n",
       "  </thead>\n",
       "  <tbody>\n",
       "    <tr>\n",
       "      <th>0</th>\n",
       "      <td>No disease</td>\n",
       "    </tr>\n",
       "    <tr>\n",
       "      <th>1</th>\n",
       "      <td>Cherry_Powdery_mildew</td>\n",
       "    </tr>\n",
       "    <tr>\n",
       "      <th>2</th>\n",
       "      <td>apple_scab</td>\n",
       "    </tr>\n",
       "    <tr>\n",
       "      <th>3</th>\n",
       "      <td>apple_black_rot</td>\n",
       "    </tr>\n",
       "    <tr>\n",
       "      <th>4</th>\n",
       "      <td>apple_rust</td>\n",
       "    </tr>\n",
       "    <tr>\n",
       "      <th>...</th>\n",
       "      <td>...</td>\n",
       "    </tr>\n",
       "    <tr>\n",
       "      <th>66</th>\n",
       "      <td>Septoria_leaf_spot</td>\n",
       "    </tr>\n",
       "    <tr>\n",
       "      <th>67</th>\n",
       "      <td>spider_mites_two_spotted</td>\n",
       "    </tr>\n",
       "    <tr>\n",
       "      <th>68</th>\n",
       "      <td>target_spot</td>\n",
       "    </tr>\n",
       "    <tr>\n",
       "      <th>69</th>\n",
       "      <td>yellow_leaf_curl</td>\n",
       "    </tr>\n",
       "    <tr>\n",
       "      <th>70</th>\n",
       "      <td>black rott</td>\n",
       "    </tr>\n",
       "  </tbody>\n",
       "</table>\n",
       "<p>153 rows × 1 columns</p>\n",
       "</div>"
      ],
      "text/plain": [
       "                           0\n",
       "0                 No disease\n",
       "1      Cherry_Powdery_mildew\n",
       "2                 apple_scab\n",
       "3            apple_black_rot\n",
       "4                 apple_rust\n",
       "..                       ...\n",
       "66        Septoria_leaf_spot\n",
       "67  spider_mites_two_spotted\n",
       "68               target_spot\n",
       "69          yellow_leaf_curl\n",
       "70                black rott\n",
       "\n",
       "[153 rows x 1 columns]"
      ]
     },
     "execution_count": 112,
     "metadata": {},
     "output_type": "execute_result"
    }
   ],
   "source": [
    "cat_col = [df_disease, df_sym]\n",
    "pd.concat(cat_col)"
   ]
  },
  {
   "cell_type": "code",
   "execution_count": 101,
   "id": "6db0716e-e7ee-4f29-8434-304d7f38ed63",
   "metadata": {
    "tags": []
   },
   "outputs": [
    {
     "data": {
      "text/plain": [
       "82"
      ]
     },
     "execution_count": 101,
     "metadata": {},
     "output_type": "execute_result"
    }
   ],
   "source": [
    "len(meta_v2['disease'].unique())"
   ]
  },
  {
   "cell_type": "code",
   "execution_count": null,
   "id": "9a00b4de-0b9e-4c81-a7bc-174153002bf5",
   "metadata": {
    "tags": []
   },
   "outputs": [],
   "source": [
    "len(df['disease'].unique())"
   ]
  },
  {
   "cell_type": "code",
   "execution_count": null,
   "id": "53d88d20-00cf-4ef6-bcd2-1a5b077c39ba",
   "metadata": {
    "tags": []
   },
   "outputs": [],
   "source": [
    "f_df = df[df['data_set'] != 'PDD271']"
   ]
  },
  {
   "cell_type": "code",
   "execution_count": null,
   "id": "0ac0fd8f-3d98-462a-912a-fdfe77a8670b",
   "metadata": {
    "tags": []
   },
   "outputs": [],
   "source": [
    "f_df"
   ]
  },
  {
   "cell_type": "code",
   "execution_count": null,
   "id": "adfab423-9797-4b11-a635-e7beaf49fa1b",
   "metadata": {
    "tags": []
   },
   "outputs": [],
   "source": [
    "len(f_df['disease'].unique())"
   ]
  },
  {
   "cell_type": "code",
   "execution_count": null,
   "id": "10c22486-4592-4d27-8de1-a35551186231",
   "metadata": {
    "tags": []
   },
   "outputs": [],
   "source": [
    "# f_df['disease'].unique()"
   ]
  },
  {
   "cell_type": "code",
   "execution_count": null,
   "id": "a7e9afe1-7a65-42c2-8875-c2b030a07c0e",
   "metadata": {
    "tags": []
   },
   "outputs": [],
   "source": [
    "grpby_diseas  = df.groupby(by = 'disease')"
   ]
  },
  {
   "cell_type": "code",
   "execution_count": null,
   "id": "ac26347a-3159-4562-bce7-66762ac15367",
   "metadata": {
    "tags": []
   },
   "outputs": [],
   "source": [
    "dict_disease = grpby_diseas.groups.keys()\n",
    "# dict_disease\n"
   ]
  },
  {
   "cell_type": "code",
   "execution_count": null,
   "id": "a4bfa397-5afd-4d1f-a447-db9ef9af7c41",
   "metadata": {
    "tags": []
   },
   "outputs": [],
   "source": [
    "df[df['disease'] == 'scab frog_eye_leaf_spot complex']"
   ]
  },
  {
   "cell_type": "code",
   "execution_count": null,
   "id": "c8232b68-2692-4e19-bb62-306087a1396c",
   "metadata": {
    "tags": []
   },
   "outputs": [],
   "source": [
    "[item for item in dict_disease if 'scab' in item.lower()]"
   ]
  },
  {
   "cell_type": "code",
   "execution_count": null,
   "id": "e872d343-1a9a-4b14-bdbb-a108ae8ef319",
   "metadata": {
    "tags": []
   },
   "outputs": [],
   "source": [
    "# [item for item in dict_disease if 'spot' in item.lower()]"
   ]
  },
  {
   "cell_type": "code",
   "execution_count": null,
   "id": "c6cbc84e-fd26-4e50-81b9-90781e4027c3",
   "metadata": {
    "tags": []
   },
   "outputs": [],
   "source": [
    "f_f = []\n",
    "count = 0\n",
    "print('Processing...')\n",
    "for i in dict_disease:\n",
    "    \n",
    "    f = df[df['disease'] == i]\n",
    "    d = len(f['data_set'].unique())\n",
    "    if d > 1:\n",
    "        count +=1\n",
    "        f_f.append(f)\n",
    "dff = pd.concat(f_f)\n",
    "print('Done')"
   ]
  },
  {
   "cell_type": "markdown",
   "id": "38c0d6ad-a591-4f93-b23d-d21998b71e53",
   "metadata": {
    "tags": []
   },
   "source": [
    "# finding similar symptoms disease in different plant. "
   ]
  },
  {
   "cell_type": "code",
   "execution_count": 1,
   "id": "1d32e860-4583-459b-8f1b-a9dcb4cf7c4e",
   "metadata": {
    "tags": []
   },
   "outputs": [],
   "source": [
    "import pandas as pd"
   ]
  },
  {
   "cell_type": "code",
   "execution_count": 82,
   "id": "48b9814b-421c-4da4-b129-eead4d224470",
   "metadata": {
    "tags": []
   },
   "outputs": [
    {
     "data": {
      "text/html": [
       "<div>\n",
       "<style scoped>\n",
       "    .dataframe tbody tr th:only-of-type {\n",
       "        vertical-align: middle;\n",
       "    }\n",
       "\n",
       "    .dataframe tbody tr th {\n",
       "        vertical-align: top;\n",
       "    }\n",
       "\n",
       "    .dataframe thead th {\n",
       "        text-align: right;\n",
       "    }\n",
       "</style>\n",
       "<table border=\"1\" class=\"dataframe\">\n",
       "  <thead>\n",
       "    <tr style=\"text-align: right;\">\n",
       "      <th></th>\n",
       "      <th>disease</th>\n",
       "      <th>symptom</th>\n",
       "    </tr>\n",
       "  </thead>\n",
       "  <tbody>\n",
       "    <tr>\n",
       "      <th>0</th>\n",
       "      <td>No disease</td>\n",
       "      <td>No symptoms</td>\n",
       "    </tr>\n",
       "    <tr>\n",
       "      <th>1</th>\n",
       "      <td>Cherry_Powdery_mildew</td>\n",
       "      <td>Powdery_mildew</td>\n",
       "    </tr>\n",
       "    <tr>\n",
       "      <th>2</th>\n",
       "      <td>apple_scab</td>\n",
       "      <td>scab</td>\n",
       "    </tr>\n",
       "    <tr>\n",
       "      <th>3</th>\n",
       "      <td>apple_black_rot</td>\n",
       "      <td>black_rot</td>\n",
       "    </tr>\n",
       "    <tr>\n",
       "      <th>4</th>\n",
       "      <td>apple_rust</td>\n",
       "      <td>rust</td>\n",
       "    </tr>\n",
       "    <tr>\n",
       "      <th>...</th>\n",
       "      <td>...</td>\n",
       "      <td>...</td>\n",
       "    </tr>\n",
       "    <tr>\n",
       "      <th>81</th>\n",
       "      <td>Tomato_yellow_leaf_curl_virus</td>\n",
       "      <td>yellow_leaf_curl</td>\n",
       "    </tr>\n",
       "    <tr>\n",
       "      <th>82</th>\n",
       "      <td>Tomato_mosaic_virus</td>\n",
       "      <td>mosaic</td>\n",
       "    </tr>\n",
       "    <tr>\n",
       "      <th>83</th>\n",
       "      <td>tomato_powdery_mildew</td>\n",
       "      <td>powdery_mildew</td>\n",
       "    </tr>\n",
       "    <tr>\n",
       "      <th>84</th>\n",
       "      <td>Bell_pepper leaf spot</td>\n",
       "      <td>bacterial_spot</td>\n",
       "    </tr>\n",
       "    <tr>\n",
       "      <th>85</th>\n",
       "      <td>grape leaf black rot</td>\n",
       "      <td>black_rot</td>\n",
       "    </tr>\n",
       "  </tbody>\n",
       "</table>\n",
       "<p>86 rows × 2 columns</p>\n",
       "</div>"
      ],
      "text/plain": [
       "                          disease           symptom\n",
       "0                      No disease       No symptoms\n",
       "1           Cherry_Powdery_mildew    Powdery_mildew\n",
       "2                      apple_scab              scab\n",
       "3                 apple_black_rot         black_rot\n",
       "4                      apple_rust              rust\n",
       "..                            ...               ...\n",
       "81  Tomato_yellow_leaf_curl_virus  yellow_leaf_curl\n",
       "82            Tomato_mosaic_virus            mosaic\n",
       "83          tomato_powdery_mildew    powdery_mildew\n",
       "84          Bell_pepper leaf spot    bacterial_spot\n",
       "85           grape leaf black rot         black_rot\n",
       "\n",
       "[86 rows x 2 columns]"
      ]
     },
     "execution_count": 82,
     "metadata": {},
     "output_type": "execute_result"
    }
   ],
   "source": [
    "df = pd.read_csv('dis_sym_01.csv')\n",
    "df"
   ]
  },
  {
   "cell_type": "code",
   "execution_count": 1,
   "id": "306f15bd-3f92-4f84-8350-c3d5af7b04b2",
   "metadata": {
    "tags": []
   },
   "outputs": [
    {
     "ename": "NameError",
     "evalue": "name 'df' is not defined",
     "output_type": "error",
     "traceback": [
      "\u001b[0;31m---------------------------------------------------------------------------\u001b[0m",
      "\u001b[0;31mNameError\u001b[0m                                 Traceback (most recent call last)",
      "Cell \u001b[0;32mIn[1], line 1\u001b[0m\n\u001b[0;32m----> 1\u001b[0m sys_count \u001b[38;5;241m=\u001b[39m \u001b[43mdf\u001b[49m[\u001b[38;5;124m'\u001b[39m\u001b[38;5;124msymptom\u001b[39m\u001b[38;5;124m'\u001b[39m]\u001b[38;5;241m.\u001b[39mstr\u001b[38;5;241m.\u001b[39mlower()\u001b[38;5;241m.\u001b[39mvalue_counts()\n\u001b[1;32m      2\u001b[0m \u001b[38;5;28;01mfor\u001b[39;00m i,k \u001b[38;5;129;01min\u001b[39;00m sys_count\u001b[38;5;241m.\u001b[39mitems():\n\u001b[1;32m      3\u001b[0m     \u001b[38;5;28;01mif\u001b[39;00m k \u001b[38;5;241m>\u001b[39m \u001b[38;5;241m1\u001b[39m:\n",
      "\u001b[0;31mNameError\u001b[0m: name 'df' is not defined"
     ]
    }
   ],
   "source": [
    "sys_count = df['symptom'].str.lower().value_counts()\n",
    "for i,k in sys_count.items():\n",
    "    if k > 1:\n",
    "        print(k,i)"
   ]
  },
  {
   "cell_type": "code",
   "execution_count": 84,
   "id": "22bca0ba-3238-44f3-b386-905910ef8aeb",
   "metadata": {},
   "outputs": [
    {
     "name": "stdout",
     "output_type": "stream",
     "text": [
      "6 powdery_mildew\n",
      "5 rust\n",
      "4 bacterial_blight\n",
      "4 bacterial_spot\n",
      "3 black_rot\n",
      "3 mosaic\n",
      "2 canker\n",
      "2 early_blight\n",
      "2 scab\n",
      "2 leaf_spot\n",
      "2 late_blight\n"
     ]
    }
   ],
   "source": [
    "df = pd.read_csv('dis_sym_01_p.csv',encoding='windows-1252' )\n",
    "sys_count = df['symptom'].str.lower().value_counts()\n",
    "for i,k in sys_count.items():\n",
    "    if k > 1:\n",
    "        print(k,i)"
   ]
  },
  {
   "cell_type": "code",
   "execution_count": null,
   "id": "4293ba2d-c057-40eb-be82-e0753a362c5d",
   "metadata": {},
   "outputs": [],
   "source": []
  },
  {
   "cell_type": "code",
   "execution_count": 81,
   "id": "b14fca7d-b29a-4280-aefc-ed03c8cfc568",
   "metadata": {
    "tags": []
   },
   "outputs": [
    {
     "data": {
      "text/html": [
       "<div>\n",
       "<style scoped>\n",
       "    .dataframe tbody tr th:only-of-type {\n",
       "        vertical-align: middle;\n",
       "    }\n",
       "\n",
       "    .dataframe tbody tr th {\n",
       "        vertical-align: top;\n",
       "    }\n",
       "\n",
       "    .dataframe thead th {\n",
       "        text-align: right;\n",
       "    }\n",
       "</style>\n",
       "<table border=\"1\" class=\"dataframe\">\n",
       "  <thead>\n",
       "    <tr style=\"text-align: right;\">\n",
       "      <th></th>\n",
       "      <th>disease</th>\n",
       "      <th>symptom</th>\n",
       "      <th>search_based_symptoms</th>\n",
       "      <th>source</th>\n",
       "    </tr>\n",
       "  </thead>\n",
       "  <tbody>\n",
       "    <tr>\n",
       "      <th>0</th>\n",
       "      <td>No disease</td>\n",
       "      <td>No symptoms</td>\n",
       "      <td>No symptoms</td>\n",
       "      <td>NaN</td>\n",
       "    </tr>\n",
       "    <tr>\n",
       "      <th>1</th>\n",
       "      <td>Cherry_Powdery_mildew</td>\n",
       "      <td>Powdery_mildew</td>\n",
       "      <td>white powdery patches</td>\n",
       "      <td>https://www2.gov.bc.ca/gov/content/industry/ag...</td>\n",
       "    </tr>\n",
       "    <tr>\n",
       "      <th>2</th>\n",
       "      <td>apple_scab</td>\n",
       "      <td>scab</td>\n",
       "      <td>brown small spot</td>\n",
       "      <td>https://agriculture.vic.gov.au/biosecurity/pla...</td>\n",
       "    </tr>\n",
       "    <tr>\n",
       "      <th>3</th>\n",
       "      <td>apple_black_rot</td>\n",
       "      <td>black_rot</td>\n",
       "      <td>reddish-brown sunken areas</td>\n",
       "      <td>NaN</td>\n",
       "    </tr>\n",
       "    <tr>\n",
       "      <th>4</th>\n",
       "      <td>apple_rust</td>\n",
       "      <td>rust</td>\n",
       "      <td>yellow-colored leaf spots</td>\n",
       "      <td>https://ag.umass.edu/landscape/fact-sheets/ced...</td>\n",
       "    </tr>\n",
       "    <tr>\n",
       "      <th>...</th>\n",
       "      <td>...</td>\n",
       "      <td>...</td>\n",
       "      <td>...</td>\n",
       "      <td>...</td>\n",
       "    </tr>\n",
       "    <tr>\n",
       "      <th>78</th>\n",
       "      <td>Tomato_yellow_leaf_curl_virus</td>\n",
       "      <td>yellow_leaf_curl</td>\n",
       "      <td>yellow_leaf_curl</td>\n",
       "      <td>NaN</td>\n",
       "    </tr>\n",
       "    <tr>\n",
       "      <th>79</th>\n",
       "      <td>Tomato_mosaic_virus</td>\n",
       "      <td>mosaic</td>\n",
       "      <td>dwarfing and curling of leaf</td>\n",
       "      <td>NaN</td>\n",
       "    </tr>\n",
       "    <tr>\n",
       "      <th>80</th>\n",
       "      <td>tomato_powdery_mildew</td>\n",
       "      <td>powdery_mildew</td>\n",
       "      <td>white powdery patches</td>\n",
       "      <td>NaN</td>\n",
       "    </tr>\n",
       "    <tr>\n",
       "      <th>81</th>\n",
       "      <td>Bell_pepper leaf spot</td>\n",
       "      <td>bacterial_spot</td>\n",
       "      <td>black_dark_brown_spots</td>\n",
       "      <td>NaN</td>\n",
       "    </tr>\n",
       "    <tr>\n",
       "      <th>82</th>\n",
       "      <td>grape leaf black rot</td>\n",
       "      <td>black_rot</td>\n",
       "      <td>reddish-brown sunken areas</td>\n",
       "      <td>NaN</td>\n",
       "    </tr>\n",
       "  </tbody>\n",
       "</table>\n",
       "<p>83 rows × 4 columns</p>\n",
       "</div>"
      ],
      "text/plain": [
       "                          disease           symptom  \\\n",
       "0                      No disease       No symptoms   \n",
       "1           Cherry_Powdery_mildew    Powdery_mildew   \n",
       "2                      apple_scab              scab   \n",
       "3                 apple_black_rot         black_rot   \n",
       "4                      apple_rust              rust   \n",
       "..                            ...               ...   \n",
       "78  Tomato_yellow_leaf_curl_virus  yellow_leaf_curl   \n",
       "79            Tomato_mosaic_virus            mosaic   \n",
       "80          tomato_powdery_mildew    powdery_mildew   \n",
       "81          Bell_pepper leaf spot    bacterial_spot   \n",
       "82           grape leaf black rot         black_rot   \n",
       "\n",
       "           search_based_symptoms  \\\n",
       "0                    No symptoms   \n",
       "1          white powdery patches   \n",
       "2               brown small spot   \n",
       "3     reddish-brown sunken areas   \n",
       "4      yellow-colored leaf spots   \n",
       "..                           ...   \n",
       "78              yellow_leaf_curl   \n",
       "79  dwarfing and curling of leaf   \n",
       "80         white powdery patches   \n",
       "81        black_dark_brown_spots   \n",
       "82    reddish-brown sunken areas   \n",
       "\n",
       "                                               source  \n",
       "0                                                 NaN  \n",
       "1   https://www2.gov.bc.ca/gov/content/industry/ag...  \n",
       "2   https://agriculture.vic.gov.au/biosecurity/pla...  \n",
       "3                                                 NaN  \n",
       "4   https://ag.umass.edu/landscape/fact-sheets/ced...  \n",
       "..                                                ...  \n",
       "78                                                NaN  \n",
       "79                                                NaN  \n",
       "80                                                NaN  \n",
       "81                                                NaN  \n",
       "82                                                NaN  \n",
       "\n",
       "[83 rows x 4 columns]"
      ]
     },
     "execution_count": 81,
     "metadata": {},
     "output_type": "execute_result"
    }
   ],
   "source": [
    "df"
   ]
  },
  {
   "cell_type": "code",
   "execution_count": null,
   "id": "74e2133d-305b-49cd-a5fe-446d00ba179f",
   "metadata": {},
   "outputs": [],
   "source": []
  }
 ],
 "metadata": {
  "kernelspec": {
   "display_name": "Python [conda env:.conda-pytorch]",
   "language": "python",
   "name": "conda-env-.conda-pytorch-py"
  },
  "language_info": {
   "codemirror_mode": {
    "name": "ipython",
    "version": 3
   },
   "file_extension": ".py",
   "mimetype": "text/x-python",
   "name": "python",
   "nbconvert_exporter": "python",
   "pygments_lexer": "ipython3",
   "version": "3.11.4"
  }
 },
 "nbformat": 4,
 "nbformat_minor": 5
}
